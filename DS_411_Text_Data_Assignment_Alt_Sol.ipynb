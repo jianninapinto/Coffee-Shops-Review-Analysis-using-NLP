{
  "nbformat": 4,
  "nbformat_minor": 0,
  "metadata": {
    "colab": {
      "provenance": []
    },
    "kernelspec": {
      "display_name": "py37  (Python3)",
      "language": "python",
      "name": "py37"
    },
    "language_info": {
      "codemirror_mode": {
        "name": "ipython",
        "version": 3
      },
      "file_extension": ".py",
      "mimetype": "text/x-python",
      "name": "python",
      "nbconvert_exporter": "python",
      "pygments_lexer": "ipython3",
      "version": "3.7.0"
    },
    "toc-autonumbering": false
  },
  "cells": [
    {
      "cell_type": "markdown",
      "metadata": {
        "id": "XLVEUBHAszyf"
      },
      "source": [
        "\n",
        "\n",
        "# Natural Language Processing (NLP)\n",
        "## *Data Science Unit 4 Sprint 1 Assignment 1*\n",
        "\n",
        "Your goal in this assignment: find the attributes of the best & worst coffee shops in the dataset. The text is fairly raw: dates in the review, extra words in the `star_rating` column, etc. You'll probably want to clean that stuff up for a better analysis. \n",
        "\n",
        "Analyze the corpus of text using text visualizations of token frequency. Try cleaning the data as much as possible. Try the following techniques: \n",
        "- Lemmatization\n",
        "- Custom stopword removal\n",
        "\n",
        "Keep in mind the attributes of good tokens. Once you have a solid baseline, layer in the star rating in your visualization(s). Key part of this assignment - produce a write-up of the attributes of the best and worst coffee shops. Based on your analysis, what makes the best the best and the worst the worst. Use graphs and numbesr from your analysis to support your conclusions. There should be plenty of markdown cells! :coffee:"
      ]
    },
    {
      "cell_type": "code",
      "metadata": {
        "id": "WVikJqB6szyi",
        "colab": {
          "base_uri": "https://localhost:8080/",
          "height": 321
        },
        "outputId": "c238e8a5-35c5-497e-9be1-081d8fc00c68"
      },
      "source": [
        "from IPython.display import YouTubeVideo\n",
        "YouTubeVideo('Jml7NVYm8cs')"
      ],
      "execution_count": 1,
      "outputs": [
        {
          "output_type": "execute_result",
          "data": {
            "text/plain": [
              "<IPython.lib.display.YouTubeVideo at 0x7f50463cad30>"
            ],
            "text/html": [
              "\n",
              "        <iframe\n",
              "            width=\"400\"\n",
              "            height=\"300\"\n",
              "            src=\"https://www.youtube.com/embed/Jml7NVYm8cs\"\n",
              "            frameborder=\"0\"\n",
              "            allowfullscreen\n",
              "        ></iframe>\n",
              "        "
            ],
            "image/jpeg": "[encoded data removed]"
          },
          "metadata": {},
          "execution_count": 1
        }
      ]
    },
    {
      "cell_type": "markdown",
      "metadata": {
        "id": "Zwv93p0nw4y7"
      },
      "source": [
        "#0. Prepare"
      ]
    },
    {
      "cell_type": "markdown",
      "metadata": {
        "id": "NznKZiH9wpvW"
      },
      "source": [
        "## 0.1 Get spacy"
      ]
    },
    {
      "cell_type": "code",
      "metadata": {
        "colab": {
          "base_uri": "https://localhost:8080/"
        },
        "id": "jOfpgOqSyX4p",
        "outputId": "e92f650b-3f93-4f9b-b5b9-308cb572f184"
      },
      "source": [
        "# Locally (or on colab) let's use en_core_web_lg \n",
        "!python -m spacy download en_core_web_lg # Can do lg, takes awhile\n",
        "# Also on Colab, need to restart runtime after this step!"
      ],
      "execution_count": 2,
      "outputs": [
        {
          "output_type": "stream",
          "name": "stdout",
          "text": [
            "/usr/local/lib/python3.8/dist-packages/torch/cuda/__init__.py:497: UserWarning: Can't initialize NVML\n",
            "  warnings.warn(\"Can't initialize NVML\")\n",
            "2023-02-23 02:01:34.083027: I tensorflow/core/platform/cpu_feature_guard.cc:193] This TensorFlow binary is optimized with oneAPI Deep Neural Network Library (oneDNN) to use the following CPU instructions in performance-critical operations:  AVX2 FMA\n",
            "To enable them in other operations, rebuild TensorFlow with the appropriate compiler flags.\n",
            "2023-02-23 02:01:36.704262: W tensorflow/compiler/xla/stream_executor/platform/default/dso_loader.cc:64] Could not load dynamic library 'libnvinfer.so.7'; dlerror: libnvinfer.so.7: cannot open shared object file: No such file or directory; LD_LIBRARY_PATH: /usr/local/nvidia/lib:/usr/local/nvidia/lib64\n",
            "2023-02-23 02:01:36.704436: W tensorflow/compiler/xla/stream_executor/platform/default/dso_loader.cc:64] Could not load dynamic library 'libnvinfer_plugin.so.7'; dlerror: libnvinfer_plugin.so.7: cannot open shared object file: No such file or directory; LD_LIBRARY_PATH: /usr/local/nvidia/lib:/usr/local/nvidia/lib64\n",
            "2023-02-23 02:01:36.704466: W tensorflow/compiler/tf2tensorrt/utils/py_utils.cc:38] TF-TRT Warning: Cannot dlopen some TensorRT libraries. If you would like to use Nvidia GPU with TensorRT, please make sure the missing libraries mentioned above are installed properly.\n",
            "2023-02-23 02:01:39.406013: E tensorflow/compiler/xla/stream_executor/cuda/cuda_driver.cc:267] failed call to cuInit: CUDA_ERROR_NO_DEVICE: no CUDA-capable device is detected\n",
            "Looking in indexes: https://pypi.org/simple, https://us-python.pkg.dev/colab-wheels/public/simple/\n",
            "Collecting en-core-web-lg==3.4.1\n",
            "  Downloading https://github.com/explosion/spacy-models/releases/download/en_core_web_lg-3.4.1/en_core_web_lg-3.4.1-py3-none-any.whl (587.7 MB)\n",
            "\u001b[2K     \u001b[90m━━━━━━━━━━━━━━━━━━━━━━━━━━━━━━━━━━━━━━━\u001b[0m \u001b[32m587.7/587.7 MB\u001b[0m \u001b[31m2.4 MB/s\u001b[0m eta \u001b[36m0:00:00\u001b[0m\n",
            "\u001b[?25hRequirement already satisfied: spacy<3.5.0,>=3.4.0 in /usr/local/lib/python3.8/dist-packages (from en-core-web-lg==3.4.1) (3.4.4)\n",
            "Requirement already satisfied: catalogue<2.1.0,>=2.0.6 in /usr/local/lib/python3.8/dist-packages (from spacy<3.5.0,>=3.4.0->en-core-web-lg==3.4.1) (2.0.8)\n",
            "Requirement already satisfied: spacy-loggers<2.0.0,>=1.0.0 in /usr/local/lib/python3.8/dist-packages (from spacy<3.5.0,>=3.4.0->en-core-web-lg==3.4.1) (1.0.4)\n",
            "Requirement already satisfied: preshed<3.1.0,>=3.0.2 in /usr/local/lib/python3.8/dist-packages (from spacy<3.5.0,>=3.4.0->en-core-web-lg==3.4.1) (3.0.8)\n",
            "Requirement already satisfied: srsly<3.0.0,>=2.4.3 in /usr/local/lib/python3.8/dist-packages (from spacy<3.5.0,>=3.4.0->en-core-web-lg==3.4.1) (2.4.5)\n",
            "Requirement already satisfied: pathy>=0.3.5 in /usr/local/lib/python3.8/dist-packages (from spacy<3.5.0,>=3.4.0->en-core-web-lg==3.4.1) (0.10.1)\n",
            "Requirement already satisfied: packaging>=20.0 in /usr/local/lib/python3.8/dist-packages (from spacy<3.5.0,>=3.4.0->en-core-web-lg==3.4.1) (23.0)\n",
            "Requirement already satisfied: setuptools in /usr/local/lib/python3.8/dist-packages (from spacy<3.5.0,>=3.4.0->en-core-web-lg==3.4.1) (57.4.0)\n",
            "Requirement already satisfied: cymem<2.1.0,>=2.0.2 in /usr/local/lib/python3.8/dist-packages (from spacy<3.5.0,>=3.4.0->en-core-web-lg==3.4.1) (2.0.7)\n",
            "Requirement already satisfied: wasabi<1.1.0,>=0.9.1 in /usr/local/lib/python3.8/dist-packages (from spacy<3.5.0,>=3.4.0->en-core-web-lg==3.4.1) (0.10.1)\n",
            "Requirement already satisfied: tqdm<5.0.0,>=4.38.0 in /usr/local/lib/python3.8/dist-packages (from spacy<3.5.0,>=3.4.0->en-core-web-lg==3.4.1) (4.64.1)\n",
            "Requirement already satisfied: requests<3.0.0,>=2.13.0 in /usr/local/lib/python3.8/dist-packages (from spacy<3.5.0,>=3.4.0->en-core-web-lg==3.4.1) (2.25.1)\n",
            "Requirement already satisfied: jinja2 in /usr/local/lib/python3.8/dist-packages (from spacy<3.5.0,>=3.4.0->en-core-web-lg==3.4.1) (2.11.3)\n",
            "Requirement already satisfied: murmurhash<1.1.0,>=0.28.0 in /usr/local/lib/python3.8/dist-packages (from spacy<3.5.0,>=3.4.0->en-core-web-lg==3.4.1) (1.0.9)\n",
            "Requirement already satisfied: pydantic!=1.8,!=1.8.1,<1.11.0,>=1.7.4 in /usr/local/lib/python3.8/dist-packages (from spacy<3.5.0,>=3.4.0->en-core-web-lg==3.4.1) (1.10.5)\n",
            "Requirement already satisfied: langcodes<4.0.0,>=3.2.0 in /usr/local/lib/python3.8/dist-packages (from spacy<3.5.0,>=3.4.0->en-core-web-lg==3.4.1) (3.3.0)\n",
            "Requirement already satisfied: numpy>=1.15.0 in /usr/local/lib/python3.8/dist-packages (from spacy<3.5.0,>=3.4.0->en-core-web-lg==3.4.1) (1.22.4)\n",
            "Requirement already satisfied: spacy-legacy<3.1.0,>=3.0.10 in /usr/local/lib/python3.8/dist-packages (from spacy<3.5.0,>=3.4.0->en-core-web-lg==3.4.1) (3.0.12)\n",
            "Requirement already satisfied: typer<0.8.0,>=0.3.0 in /usr/local/lib/python3.8/dist-packages (from spacy<3.5.0,>=3.4.0->en-core-web-lg==3.4.1) (0.7.0)\n",
            "Requirement already satisfied: smart-open<7.0.0,>=5.2.1 in /usr/local/lib/python3.8/dist-packages (from spacy<3.5.0,>=3.4.0->en-core-web-lg==3.4.1) (6.3.0)\n",
            "Requirement already satisfied: thinc<8.2.0,>=8.1.0 in /usr/local/lib/python3.8/dist-packages (from spacy<3.5.0,>=3.4.0->en-core-web-lg==3.4.1) (8.1.7)\n",
            "Requirement already satisfied: typing-extensions>=4.2.0 in /usr/local/lib/python3.8/dist-packages (from pydantic!=1.8,!=1.8.1,<1.11.0,>=1.7.4->spacy<3.5.0,>=3.4.0->en-core-web-lg==3.4.1) (4.5.0)\n",
            "Requirement already satisfied: certifi>=2017.4.17 in /usr/local/lib/python3.8/dist-packages (from requests<3.0.0,>=2.13.0->spacy<3.5.0,>=3.4.0->en-core-web-lg==3.4.1) (2022.12.7)\n",
            "Requirement already satisfied: urllib3<1.27,>=1.21.1 in /usr/local/lib/python3.8/dist-packages (from requests<3.0.0,>=2.13.0->spacy<3.5.0,>=3.4.0->en-core-web-lg==3.4.1) (1.24.3)\n",
            "Requirement already satisfied: idna<3,>=2.5 in /usr/local/lib/python3.8/dist-packages (from requests<3.0.0,>=2.13.0->spacy<3.5.0,>=3.4.0->en-core-web-lg==3.4.1) (2.10)\n",
            "Requirement already satisfied: chardet<5,>=3.0.2 in /usr/local/lib/python3.8/dist-packages (from requests<3.0.0,>=2.13.0->spacy<3.5.0,>=3.4.0->en-core-web-lg==3.4.1) (4.0.0)\n",
            "Requirement already satisfied: blis<0.8.0,>=0.7.8 in /usr/local/lib/python3.8/dist-packages (from thinc<8.2.0,>=8.1.0->spacy<3.5.0,>=3.4.0->en-core-web-lg==3.4.1) (0.7.9)\n",
            "Requirement already satisfied: confection<1.0.0,>=0.0.1 in /usr/local/lib/python3.8/dist-packages (from thinc<8.2.0,>=8.1.0->spacy<3.5.0,>=3.4.0->en-core-web-lg==3.4.1) (0.0.4)\n",
            "Requirement already satisfied: click<9.0.0,>=7.1.1 in /usr/local/lib/python3.8/dist-packages (from typer<0.8.0,>=0.3.0->spacy<3.5.0,>=3.4.0->en-core-web-lg==3.4.1) (7.1.2)\n",
            "Requirement already satisfied: MarkupSafe>=0.23 in /usr/local/lib/python3.8/dist-packages (from jinja2->spacy<3.5.0,>=3.4.0->en-core-web-lg==3.4.1) (2.0.1)\n",
            "Installing collected packages: en-core-web-lg\n",
            "Successfully installed en-core-web-lg-3.4.1\n",
            "\u001b[38;5;2m✔ Download and installation successful\u001b[0m\n",
            "You can now load the package via spacy.load('en_core_web_lg')\n"
          ]
        }
      ]
    },
    {
      "cell_type": "markdown",
      "metadata": {
        "id": "S34mj-a5wwfa"
      },
      "source": [
        "## 0.2 Restart runtime!"
      ]
    },
    {
      "cell_type": "markdown",
      "metadata": {
        "id": "j7nBZY8Z0I4W"
      },
      "source": [
        "## 0.3 Install packages and do imports"
      ]
    },
    {
      "cell_type": "code",
      "metadata": {
        "colab": {
          "base_uri": "https://localhost:8080/"
        },
        "id": "gQuk1Tmf28gG",
        "outputId": "5497ff17-c058-4d54-b440-6f2da7984887"
      },
      "source": [
        "!pip install squarify"
      ],
      "execution_count": 1,
      "outputs": [
        {
          "output_type": "stream",
          "name": "stdout",
          "text": [
            "Looking in indexes: https://pypi.org/simple, https://us-python.pkg.dev/colab-wheels/public/simple/\n",
            "Collecting squarify\n",
            "  Downloading squarify-0.4.3-py3-none-any.whl (4.3 kB)\n",
            "Installing collected packages: squarify\n",
            "Successfully installed squarify-0.4.3\n"
          ]
        }
      ]
    },
    {
      "cell_type": "code",
      "metadata": {
        "id": "IIyTZrE3-fNd"
      },
      "source": [
        "import pandas as pd\n",
        "import matplotlib.pyplot as plt\n",
        "%matplotlib inline\n",
        "import seaborn as sns\n",
        "import squarify"
      ],
      "execution_count": 26,
      "outputs": []
    },
    {
      "cell_type": "markdown",
      "metadata": {
        "id": "H9x5mry3szyk"
      },
      "source": [
        "-----"
      ]
    },
    {
      "cell_type": "markdown",
      "metadata": {
        "id": "xFOEkbR40TZf"
      },
      "source": [
        "## 0.4 Get data"
      ]
    },
    {
      "cell_type": "code",
      "metadata": {
        "id": "NXNgjaqaszyk",
        "colab": {
          "base_uri": "https://localhost:8080/",
          "height": 206
        },
        "outputId": "a74dac7c-bfd2-4528-919c-47f3f40976cc"
      },
      "source": [
        "url = \"https://raw.githubusercontent.com/LambdaSchool/DS-Unit-4-Sprint-1-NLP/main/module1-text-data/data/yelp_coffeeshop_review_data.csv\"\n",
        "\n",
        "df = pd.read_csv(url)\n",
        "df.head()"
      ],
      "execution_count": 3,
      "outputs": [
        {
          "output_type": "execute_result",
          "data": {
            "text/plain": [
              "                  coffee_shop_name  \\\n",
              "0  The Factory - Cafe With a Soul    \n",
              "1  The Factory - Cafe With a Soul    \n",
              "2  The Factory - Cafe With a Soul    \n",
              "3  The Factory - Cafe With a Soul    \n",
              "4  The Factory - Cafe With a Soul    \n",
              "\n",
              "                                    full_review_text        star_rating  \n",
              "0   11/25/2016 1 check-in Love love loved the atm...   5.0 star rating   \n",
              "1   12/2/2016 Listed in Date Night: Austin, Ambia...   4.0 star rating   \n",
              "2   11/30/2016 1 check-in Listed in Brunch Spots ...   4.0 star rating   \n",
              "3   11/25/2016 Very cool decor! Good drinks Nice ...   2.0 star rating   \n",
              "4   12/3/2016 1 check-in They are located within ...   4.0 star rating   "
            ],
            "text/html": [
              "\n",
              "  <div id=\"df-4321ea46-28ab-4c6e-9007-f6d836b9f9cb\">\n",
              "    <div class=\"colab-df-container\">\n",
              "      <div>\n",
              "<style scoped>\n",
              "    .dataframe tbody tr th:only-of-type {\n",
              "        vertical-align: middle;\n",
              "    }\n",
              "\n",
              "    .dataframe tbody tr th {\n",
              "        vertical-align: top;\n",
              "    }\n",
              "\n",
              "    .dataframe thead th {\n",
              "        text-align: right;\n",
              "    }\n",
              "</style>\n",
              "<table border=\"1\" class=\"dataframe\">\n",
              "  <thead>\n",
              "    <tr style=\"text-align: right;\">\n",
              "      <th></th>\n",
              "      <th>coffee_shop_name</th>\n",
              "      <th>full_review_text</th>\n",
              "      <th>star_rating</th>\n",
              "    </tr>\n",
              "  </thead>\n",
              "  <tbody>\n",
              "    <tr>\n",
              "      <th>0</th>\n",
              "      <td>The Factory - Cafe With a Soul</td>\n",
              "      <td>11/25/2016 1 check-in Love love loved the atm...</td>\n",
              "      <td>5.0 star rating</td>\n",
              "    </tr>\n",
              "    <tr>\n",
              "      <th>1</th>\n",
              "      <td>The Factory - Cafe With a Soul</td>\n",
              "      <td>12/2/2016 Listed in Date Night: Austin, Ambia...</td>\n",
              "      <td>4.0 star rating</td>\n",
              "    </tr>\n",
              "    <tr>\n",
              "      <th>2</th>\n",
              "      <td>The Factory - Cafe With a Soul</td>\n",
              "      <td>11/30/2016 1 check-in Listed in Brunch Spots ...</td>\n",
              "      <td>4.0 star rating</td>\n",
              "    </tr>\n",
              "    <tr>\n",
              "      <th>3</th>\n",
              "      <td>The Factory - Cafe With a Soul</td>\n",
              "      <td>11/25/2016 Very cool decor! Good drinks Nice ...</td>\n",
              "      <td>2.0 star rating</td>\n",
              "    </tr>\n",
              "    <tr>\n",
              "      <th>4</th>\n",
              "      <td>The Factory - Cafe With a Soul</td>\n",
              "      <td>12/3/2016 1 check-in They are located within ...</td>\n",
              "      <td>4.0 star rating</td>\n",
              "    </tr>\n",
              "  </tbody>\n",
              "</table>\n",
              "</div>\n",
              "      <button class=\"colab-df-convert\" onclick=\"convertToInteractive('df-4321ea46-28ab-4c6e-9007-f6d836b9f9cb')\"\n",
              "              title=\"Convert this dataframe to an interactive table.\"\n",
              "              style=\"display:none;\">\n",
              "        \n",
              "  <svg xmlns=\"http://www.w3.org/2000/svg\" height=\"24px\"viewBox=\"0 0 24 24\"\n",
              "       width=\"24px\">\n",
              "    <path d=\"M0 0h24v24H0V0z\" fill=\"none\"/>\n",
              "    <path d=\"M18.56 5.44l.94 2.06.94-2.06 2.06-.94-2.06-.94-.94-2.06-.94 2.06-2.06.94zm-11 1L8.5 8.5l.94-2.06 2.06-.94-2.06-.94L8.5 2.5l-.94 2.06-2.06.94zm10 10l.94 2.06.94-2.06 2.06-.94-2.06-.94-.94-2.06-.94 2.06-2.06.94z\"/><path d=\"M17.41 7.96l-1.37-1.37c-.4-.4-.92-.59-1.43-.59-.52 0-1.04.2-1.43.59L10.3 9.45l-7.72 7.72c-.78.78-.78 2.05 0 2.83L4 21.41c.39.39.9.59 1.41.59.51 0 1.02-.2 1.41-.59l7.78-7.78 2.81-2.81c.8-.78.8-2.07 0-2.86zM5.41 20L4 18.59l7.72-7.72 1.47 1.35L5.41 20z\"/>\n",
              "  </svg>\n",
              "      </button>\n",
              "      \n",
              "  <style>\n",
              "    .colab-df-container {\n",
              "      display:flex;\n",
              "      flex-wrap:wrap;\n",
              "      gap: 12px;\n",
              "    }\n",
              "\n",
              "    .colab-df-convert {\n",
              "      background-color: #E8F0FE;\n",
              "      border: none;\n",
              "      border-radius: 50%;\n",
              "      cursor: pointer;\n",
              "      display: none;\n",
              "      fill: #1967D2;\n",
              "      height: 32px;\n",
              "      padding: 0 0 0 0;\n",
              "      width: 32px;\n",
              "    }\n",
              "\n",
              "    .colab-df-convert:hover {\n",
              "      background-color: #E2EBFA;\n",
              "      box-shadow: 0px 1px 2px rgba(60, 64, 67, 0.3), 0px 1px 3px 1px rgba(60, 64, 67, 0.15);\n",
              "      fill: #174EA6;\n",
              "    }\n",
              "\n",
              "    [theme=dark] .colab-df-convert {\n",
              "      background-color: #3B4455;\n",
              "      fill: #D2E3FC;\n",
              "    }\n",
              "\n",
              "    [theme=dark] .colab-df-convert:hover {\n",
              "      background-color: #434B5C;\n",
              "      box-shadow: 0px 1px 3px 1px rgba(0, 0, 0, 0.15);\n",
              "      filter: drop-shadow(0px 1px 2px rgba(0, 0, 0, 0.3));\n",
              "      fill: #FFFFFF;\n",
              "    }\n",
              "  </style>\n",
              "\n",
              "      <script>\n",
              "        const buttonEl =\n",
              "          document.querySelector('#df-4321ea46-28ab-4c6e-9007-f6d836b9f9cb button.colab-df-convert');\n",
              "        buttonEl.style.display =\n",
              "          google.colab.kernel.accessAllowed ? 'block' : 'none';\n",
              "\n",
              "        async function convertToInteractive(key) {\n",
              "          const element = document.querySelector('#df-4321ea46-28ab-4c6e-9007-f6d836b9f9cb');\n",
              "          const dataTable =\n",
              "            await google.colab.kernel.invokeFunction('convertToInteractive',\n",
              "                                                     [key], {});\n",
              "          if (!dataTable) return;\n",
              "\n",
              "          const docLinkHtml = 'Like what you see? Visit the ' +\n",
              "            '<a target=\"_blank\" href=https://colab.research.google.com/notebooks/data_table.ipynb>data table notebook</a>'\n",
              "            + ' to learn more about interactive tables.';\n",
              "          element.innerHTML = '';\n",
              "          dataTable['output_type'] = 'display_data';\n",
              "          await google.colab.output.renderOutput(dataTable, element);\n",
              "          const docLink = document.createElement('div');\n",
              "          docLink.innerHTML = docLinkHtml;\n",
              "          element.appendChild(docLink);\n",
              "        }\n",
              "      </script>\n",
              "    </div>\n",
              "  </div>\n",
              "  "
            ]
          },
          "metadata": {},
          "execution_count": 3
        }
      ]
    },
    {
      "cell_type": "code",
      "source": [
        "df.full_review_text.iloc[0]"
      ],
      "metadata": {
        "colab": {
          "base_uri": "https://localhost:8080/",
          "height": 87
        },
        "id": "tFBHjVPiE1S0",
        "outputId": "08ed8619-e2f1-4ddd-e482-b2d3ccadf4b3"
      },
      "execution_count": 4,
      "outputs": [
        {
          "output_type": "execute_result",
          "data": {
            "text/plain": [
              "' 11/25/2016 1 check-in Love love loved the atmosphere! Every corner of the coffee shop had its own style, and there were swings!!! I ordered the matcha latte, and it was muy fantastico! Ordering and getting my drink were pretty streamlined. I ordered on an iPad, which included all beverage selections that ranged from coffee to wine, desired level of sweetness, and a checkout system. I got my latte within minutes!  I was hoping for a typical heart or feather on my latte, but found myself listing out all the possibilities of what the art may be. Any ideas? '"
            ],
            "application/vnd.google.colaboratory.intrinsic+json": {
              "type": "string"
            }
          },
          "metadata": {},
          "execution_count": 4
        }
      ]
    },
    {
      "cell_type": "code",
      "source": [
        "df.full_review_text.iloc[0:3]"
      ],
      "metadata": {
        "colab": {
          "base_uri": "https://localhost:8080/"
        },
        "id": "IFrSp_aJE89b",
        "outputId": "e28110fa-f6e7-457f-a899-edaf3db8f159"
      },
      "execution_count": 5,
      "outputs": [
        {
          "output_type": "execute_result",
          "data": {
            "text/plain": [
              "0     11/25/2016 1 check-in Love love loved the atm...\n",
              "1     12/2/2016 Listed in Date Night: Austin, Ambia...\n",
              "2     11/30/2016 1 check-in Listed in Brunch Spots ...\n",
              "Name: full_review_text, dtype: object"
            ]
          },
          "metadata": {},
          "execution_count": 5
        }
      ]
    },
    {
      "cell_type": "markdown",
      "source": [
        "Let's create a function for quickly getting a print out of our text reviews. Since we'll be performing various data cleaning and tokenizing operations, we'll be wanting to print out our text numerous times, so it'll be useful to have a function for that very thing!"
      ],
      "metadata": {
        "id": "mikBaHueEOd-"
      }
    },
    {
      "cell_type": "code",
      "source": [
        "# computationally efficient way to iterate through rows using iterrows()\n",
        "# we just want to see the print out of few reviews to get an idea of the  \n",
        "# quality of our text data (i.e. how messy is it?)\n",
        "\n",
        "def print_out_N_reviews(N, df, col_name='full_review_text'):\n",
        "  \"\"\"\n",
        "  Prints out <N> number of text reviews for a specified column <col_name>\n",
        "\n",
        "  Parameters\n",
        "  ----------\n",
        "  N : int\n",
        "      Number of text reviews to print out\n",
        "\n",
        "  df : pandas dataframe\n",
        "\n",
        "  col_name : string\n",
        "      Column name where the text reviews are stored\n",
        "\n",
        "  Returns\n",
        "  -------\n",
        "  None\n",
        "  \"\"\"\n",
        "\n",
        "  counter = 0 \n",
        "  # by using double brackets in df[[col_name]] the data type stays as a \n",
        "  # dataframe instead of becoming a Series had we used single brackets\n",
        "\n",
        "  for row_id, row in df[[col_name]].iterrows():\n",
        "\n",
        "    text = row[0] # get column data\n",
        "    print(text)\n",
        "    print(' ') # create a blank line for ease of reading\n",
        "    if counter == N: # exit for loop after printing out a few reviews\n",
        "      break\n",
        "    counter += 1"
      ],
      "metadata": {
        "id": "zKpzxP2CEo9e"
      },
      "execution_count": 6,
      "outputs": []
    },
    {
      "cell_type": "code",
      "source": [
        "N = 5\n",
        "print_out_N_reviews(N, df)"
      ],
      "metadata": {
        "colab": {
          "base_uri": "https://localhost:8080/"
        },
        "id": "KDrprtKCGpwa",
        "outputId": "62f677ef-d5a4-4dd2-ec86-1d2082b6a784"
      },
      "execution_count": 7,
      "outputs": [
        {
          "output_type": "stream",
          "name": "stdout",
          "text": [
            " 11/25/2016 1 check-in Love love loved the atmosphere! Every corner of the coffee shop had its own style, and there were swings!!! I ordered the matcha latte, and it was muy fantastico! Ordering and getting my drink were pretty streamlined. I ordered on an iPad, which included all beverage selections that ranged from coffee to wine, desired level of sweetness, and a checkout system. I got my latte within minutes!  I was hoping for a typical heart or feather on my latte, but found myself listing out all the possibilities of what the art may be. Any ideas? \n",
            " \n",
            " 12/2/2016 Listed in Date Night: Austin, Ambiance in Austin BEAUTIFUL!!!! Love the ambiance! Instagram-worthy!!!  Definitely $$$, so be prepared. This is gonna cost you a pretty penny :) Waffle dessert was just decent...nothing to rave about.  But, will probably be back just to be somewhere unique and nice. \n",
            " \n",
            " 11/30/2016 1 check-in Listed in Brunch Spots I loved the eclectic and homey plush decor and who doesn't want to swing and drink their coffee?  I would categorize this as a pricier coffee place but, to me it was worth it.  After Thanksgiving nobody wants to make brunch so we headed out in search of chicken and waffles.  There is ample parking in the private lot and  ordering is done through I-Pads.  Pick a seat and they will call your name when your items are ready.  Be patient because some of the coffee drinks take longer than others.  I had the cold brew coffee, chicken and waffles and we shared a pop+art!  The po+art was strawberry; light and fluffy on the outside and gooey sweet filling on the inside.  The chicken and waffles wasn't the standard so expect different, complex and interesting flavors from the accompanying slaw and sauce.  I thoroughly enjoyed it but, the waffle was a bit bland and maybe could have used a bit of honey to spruce it up.  The coffee here is spot on and I hear that their hot chocolate is the bomb but, I will have to wait for the weather to cool off to try that.  A great place to be cozy and chat with your friends, a date or read a book. Chicken and waffles Pop tart Coffee See all photos from Carmela S. for The Factory - Cafe With a Soul \n",
            " \n",
            " 11/25/2016 Very cool decor! Good drinks Nice seating  However...  Just about everything is overpriced. $1.50 extra for 3 ounces of Almond Milk in a cortado. No WiFi Music is a bit loud and the mix is odd.  Pleasant French oldies followed by loud techno. Several tables were dirty when we got there. Service is average.  It feels like a Los Angeles coffee shot that is out of place. \n",
            " \n",
            " 12/3/2016 1 check-in They are located within the Northcross mall shopping center facing east toward Burnet Rd with plenty of parking. I loved their computerized user friendly ordering system, it made it easy me to pick & choose all the items I wanted to try. I ordered pop tart, chicken & waffles, strawberry waffles (photos uploaded). This place is ideal for ordering a few dishes to share with your group. Seating is limited since this place is fairly new with lots of visitors. Arrive early and be prepared to wait a bit if you with a large grop. Store front facing Burnet Rd See all photos from Michelle A. for The Factory - Cafe With a Soul \n",
            " \n",
            " 11/20/2016 1 check-in Very cute cafe! I think from the moment I stepped in, there really wasn't anything I didn't find cute at The Factory. From their decor to their cups, everything was really cute. It's really the perfect place for a catching up with friends or a coffee date.  When you go order, there's really the least amount of interaction ever with the workers. You just pick your order on an iPad and they'll call your order out after for you to pick up at the counter. The whole thing's pretty novel honestly. I got the Viva Matcha Latte and it was so good! Perfect amount of sweetness and perfect temperature. I went on a cold night and this cafe is just so cozy, it was such a great combination. They have these swings as well which were pretty fun to sit on honestly.  Prices are what I would expect for a cafe like this, not super cheap, but not too pricey. There's no wifi here, so if you want to study, maybe this isn't the right place. But overall, very nice atmosphere! Viva matcha latte and Cortado \n",
            " \n"
          ]
        }
      ]
    },
    {
      "cell_type": "markdown",
      "source": [
        "**Observations**\n",
        "\n",
        "The text above have the following characteristics:\n",
        "\n",
        "- Reviews have dates\n",
        "- Lots of punctutation\n",
        "- Special characters linke $ ( as well as dollar amounts)\n",
        "- Upper and lower case words\n",
        "\n",
        "Let's clean the data using a single function.\n"
      ],
      "metadata": {
        "id": "-A0Wtul8HhIH"
      }
    },
    {
      "cell_type": "markdown",
      "metadata": {
        "id": "qDezrvTjxA1G"
      },
      "source": [
        "# 1 Practice: Clean, tokenize, remove stop words, lemmatize"
      ]
    },
    {
      "cell_type": "markdown",
      "metadata": {
        "id": "1zbOpqPEusdt"
      },
      "source": [
        "## 1.1 Clean Review Text (with Regular Expressions `regex`)\n",
        "dataquest has a good [regex reference](https://www.dataquest.io/wp-content/uploads/2019/03/python-regular-expressions-cheat-sheet.pdf\n",
        ")\n"
      ]
    },
    {
      "cell_type": "code",
      "metadata": {
        "id": "386V8zRuszyp"
      },
      "source": [
        "import re\n",
        "# considering using regex to remove dates\n",
        "# you can create and test regular expressions on this online regex editor: \n",
        "# https://regex101.com/\n",
        "    \n",
        "def clean_data(text):\n",
        "    \"\"\"\n",
        "    Accepts a single text document and performs several regex substitutions in \n",
        "    order to clean the document. \n",
        "    \n",
        "    Parameters\n",
        "    ----------\n",
        "    text: string or object \n",
        "    \n",
        "    Returns\n",
        "    -------\n",
        "    text: string or object\n",
        "    \"\"\"\n",
        "    \n",
        "    # order of operations - apply the expression from top to bottom\n",
        "    date_regex = r\"\\d+/\\d+/\\d+\"\n",
        "    punct_regex = r\"[^0-9a-zA-Z\\s]\" # any non-alphanumeric chars\n",
        "    special_chars_regex = r\"[\\$\\%\\&\\@+]\" \n",
        "    numerical_regex = r\"\\d+\"  # match one or more digits\n",
        "    \n",
        "    # Replace any strings matching the above regex patterns with blank strings\n",
        "    # (effectively removing them from the text)\n",
        "    text = re.sub(date_regex, \"\", text)\n",
        "    text = re.sub(punct_regex, \"\", text)\n",
        "    text = re.sub(special_chars_regex, \"\", text)\n",
        "    text = re.sub(numerical_regex, \"\", text)\n",
        "\n",
        "    # apply case normalization\n",
        "    text = text.lower()\n",
        "    return text"
      ],
      "execution_count": 8,
      "outputs": []
    },
    {
      "cell_type": "code",
      "source": [
        "df.full_review_text = df.full_review_text.apply(lambda text: clean_data(text))"
      ],
      "metadata": {
        "id": "9oGMl9lcNHW4"
      },
      "execution_count": 9,
      "outputs": []
    },
    {
      "cell_type": "code",
      "source": [
        "N = 5 \n",
        "print_out_N_reviews(N, df, col_name='full_review_text')"
      ],
      "metadata": {
        "colab": {
          "base_uri": "https://localhost:8080/"
        },
        "id": "dxj2i8rmNV1z",
        "outputId": "4b8dd37a-99ee-440b-af8a-dc4854ee623a"
      },
      "execution_count": 10,
      "outputs": [
        {
          "output_type": "stream",
          "name": "stdout",
          "text": [
            "   checkin love love loved the atmosphere every corner of the coffee shop had its own style and there were swings i ordered the matcha latte and it was muy fantastico ordering and getting my drink were pretty streamlined i ordered on an ipad which included all beverage selections that ranged from coffee to wine desired level of sweetness and a checkout system i got my latte within minutes  i was hoping for a typical heart or feather on my latte but found myself listing out all the possibilities of what the art may be any ideas \n",
            " \n",
            "  listed in date night austin ambiance in austin beautiful love the ambiance instagramworthy  definitely  so be prepared this is gonna cost you a pretty penny  waffle dessert was just decentnothing to rave about  but will probably be back just to be somewhere unique and nice \n",
            " \n",
            "   checkin listed in brunch spots i loved the eclectic and homey plush decor and who doesnt want to swing and drink their coffee  i would categorize this as a pricier coffee place but to me it was worth it  after thanksgiving nobody wants to make brunch so we headed out in search of chicken and waffles  there is ample parking in the private lot and  ordering is done through ipads  pick a seat and they will call your name when your items are ready  be patient because some of the coffee drinks take longer than others  i had the cold brew coffee chicken and waffles and we shared a popart  the poart was strawberry light and fluffy on the outside and gooey sweet filling on the inside  the chicken and waffles wasnt the standard so expect different complex and interesting flavors from the accompanying slaw and sauce  i thoroughly enjoyed it but the waffle was a bit bland and maybe could have used a bit of honey to spruce it up  the coffee here is spot on and i hear that their hot chocolate is the bomb but i will have to wait for the weather to cool off to try that  a great place to be cozy and chat with your friends a date or read a book chicken and waffles pop tart coffee see all photos from carmela s for the factory  cafe with a soul \n",
            " \n",
            "  very cool decor good drinks nice seating  however  just about everything is overpriced  extra for  ounces of almond milk in a cortado no wifi music is a bit loud and the mix is odd  pleasant french oldies followed by loud techno several tables were dirty when we got there service is average  it feels like a los angeles coffee shot that is out of place \n",
            " \n",
            "   checkin they are located within the northcross mall shopping center facing east toward burnet rd with plenty of parking i loved their computerized user friendly ordering system it made it easy me to pick  choose all the items i wanted to try i ordered pop tart chicken  waffles strawberry waffles photos uploaded this place is ideal for ordering a few dishes to share with your group seating is limited since this place is fairly new with lots of visitors arrive early and be prepared to wait a bit if you with a large grop store front facing burnet rd see all photos from michelle a for the factory  cafe with a soul \n",
            " \n",
            "   checkin very cute cafe i think from the moment i stepped in there really wasnt anything i didnt find cute at the factory from their decor to their cups everything was really cute its really the perfect place for a catching up with friends or a coffee date  when you go order theres really the least amount of interaction ever with the workers you just pick your order on an ipad and theyll call your order out after for you to pick up at the counter the whole things pretty novel honestly i got the viva matcha latte and it was so good perfect amount of sweetness and perfect temperature i went on a cold night and this cafe is just so cozy it was such a great combination they have these swings as well which were pretty fun to sit on honestly  prices are what i would expect for a cafe like this not super cheap but not too pricey theres no wifi here so if you want to study maybe this isnt the right place but overall very nice atmosphere viva matcha latte and cortado \n",
            " \n"
          ]
        }
      ]
    },
    {
      "cell_type": "markdown",
      "source": [
        "**Observations:**\n",
        "\n",
        "The text looks a lot cleaner after using regex to remove characters that we don't want to consider as tokens. \n",
        "\n",
        "We are motivated to get high quality tokens because eventually, we are going to create a document-term matrix using the tokens in our documents. Which means that each token will become a feature in that matrix. \n",
        "\n",
        "Features such as white spaces, punctuation, dates and numbers are generally not very informative features for ML models."
      ],
      "metadata": {
        "id": "v6Wfnk2NNfro"
      }
    },
    {
      "cell_type": "markdown",
      "metadata": {
        "id": "jYZSZec_szyr"
      },
      "source": [
        "## 1.2. Tokenize the text\n",
        "\n",
        "Now that we have done some data cleaning, we can create some tokens. Notice in the above print out of some of the reviews that there are white spaces where periods used to be. It's a bit difficult to strip those extra white spaces when handeling an entire text document, but it becomes much easier to strip out all of those extra white spaces when handeling tokens - so let's create some tokens!"
      ]
    },
    {
      "cell_type": "code",
      "source": [
        "import spacy\n",
        "# import the large version of the pre-trained model\n",
        "# depending on your computational resources/limitations, you might  \n",
        "# need to download and load in a smaller version of the model \n",
        "# see the spaCy docs: https://spacy.io/models/en\n",
        "nlp = spacy.load('en_core_web_lg')"
      ],
      "metadata": {
        "id": "pkfTTGzuPf8t"
      },
      "execution_count": 12,
      "outputs": []
    },
    {
      "cell_type": "code",
      "source": [
        "# this will take longer to run than a regex method because Spacy is doing a \n",
        "# fair amount of extra stuff under the hood in creating the token attributes \n",
        "# and everything.\n",
        "\n",
        "def tokenizer(text):\n",
        "    \"\"\"\n",
        "    Use the pre-trained model from Space to tokenize our text into lemmas \n",
        "    \n",
        "    Notes\n",
        "    -----\n",
        "    Remember that the pre-trained spaCy model has a lot of built in flags  \n",
        "    for what kind of token each token is so we can use that functionality to \n",
        "    create filters for stop words, white spaces, punctuation, and so on!\n",
        "    \n",
        "    See list of flags here: https://spacy.io/api/token#attributes\n",
        "    \n",
        "    Parameter\n",
        "    ---------\n",
        "    text: string\n",
        "        Full text article/document that needs to be tokenized \n",
        "    \"\"\"\n",
        "\n",
        "    # pass the text into the spaCy pre-trained model so that we can then use\n",
        "    # the useful spaCy functionality\n",
        "\n",
        "    doc = nlp(text)\n",
        "\n",
        "    # provide a stop word filter (i.e. remove stop words) and a white space\n",
        "    # filter (i.e. remove tokens that are white space) \n",
        "    return [token.lemma_ for token in doc if (token.is_stop != True) and \n",
        "            (token.is_space != True)]"
      ],
      "metadata": {
        "id": "GaueG19bbJFj"
      },
      "execution_count": 13,
      "outputs": []
    },
    {
      "cell_type": "code",
      "source": [
        "# This might take ~4 minutes\n",
        "df['lemmas'] = df.full_review_text.apply(lambda text: tokenizer(text))"
      ],
      "metadata": {
        "id": "sGjedrY9cYPL"
      },
      "execution_count": 14,
      "outputs": []
    },
    {
      "cell_type": "code",
      "source": [
        "# We have removed the white spaces and we now have lemmas for tokens!\n",
        "df.lemmas.iloc[:5]"
      ],
      "metadata": {
        "colab": {
          "base_uri": "https://localhost:8080/"
        },
        "id": "0-MQ7vrxcovJ",
        "outputId": "65327995-6bea-4d8e-b49d-da6e64b7480b"
      },
      "execution_count": 15,
      "outputs": [
        {
          "output_type": "execute_result",
          "data": {
            "text/plain": [
              "0    [checkin, love, love, love, atmosphere, corner...\n",
              "1    [list, date, night, austin, ambiance, austin, ...\n",
              "2    [checkin, list, brunch, spot, love, eclectic, ...\n",
              "3    [cool, decor, good, drink, nice, seating, over...\n",
              "4    [checkin, locate, northcross, mall, shopping, ...\n",
              "Name: lemmas, dtype: object"
            ]
          },
          "metadata": {},
          "execution_count": 15
        }
      ]
    },
    {
      "cell_type": "code",
      "source": [
        "df.head()"
      ],
      "metadata": {
        "colab": {
          "base_uri": "https://localhost:8080/",
          "height": 206
        },
        "id": "1eZr96KaczSw",
        "outputId": "e1017c04-b220-470a-f1d3-c7b0d46ea2ee"
      },
      "execution_count": 16,
      "outputs": [
        {
          "output_type": "execute_result",
          "data": {
            "text/plain": [
              "                  coffee_shop_name  \\\n",
              "0  The Factory - Cafe With a Soul    \n",
              "1  The Factory - Cafe With a Soul    \n",
              "2  The Factory - Cafe With a Soul    \n",
              "3  The Factory - Cafe With a Soul    \n",
              "4  The Factory - Cafe With a Soul    \n",
              "\n",
              "                                    full_review_text        star_rating  \\\n",
              "0     checkin love love loved the atmosphere ever...   5.0 star rating    \n",
              "1    listed in date night austin ambiance in aust...   4.0 star rating    \n",
              "2     checkin listed in brunch spots i loved the ...   4.0 star rating    \n",
              "3    very cool decor good drinks nice seating  ho...   2.0 star rating    \n",
              "4     checkin they are located within the northcr...   4.0 star rating    \n",
              "\n",
              "                                              lemmas  \n",
              "0  [checkin, love, love, love, atmosphere, corner...  \n",
              "1  [list, date, night, austin, ambiance, austin, ...  \n",
              "2  [checkin, list, brunch, spot, love, eclectic, ...  \n",
              "3  [cool, decor, good, drink, nice, seating, over...  \n",
              "4  [checkin, locate, northcross, mall, shopping, ...  "
            ],
            "text/html": [
              "\n",
              "  <div id=\"df-47829de7-9107-4fdd-acb2-4b8e0355a14f\">\n",
              "    <div class=\"colab-df-container\">\n",
              "      <div>\n",
              "<style scoped>\n",
              "    .dataframe tbody tr th:only-of-type {\n",
              "        vertical-align: middle;\n",
              "    }\n",
              "\n",
              "    .dataframe tbody tr th {\n",
              "        vertical-align: top;\n",
              "    }\n",
              "\n",
              "    .dataframe thead th {\n",
              "        text-align: right;\n",
              "    }\n",
              "</style>\n",
              "<table border=\"1\" class=\"dataframe\">\n",
              "  <thead>\n",
              "    <tr style=\"text-align: right;\">\n",
              "      <th></th>\n",
              "      <th>coffee_shop_name</th>\n",
              "      <th>full_review_text</th>\n",
              "      <th>star_rating</th>\n",
              "      <th>lemmas</th>\n",
              "    </tr>\n",
              "  </thead>\n",
              "  <tbody>\n",
              "    <tr>\n",
              "      <th>0</th>\n",
              "      <td>The Factory - Cafe With a Soul</td>\n",
              "      <td>checkin love love loved the atmosphere ever...</td>\n",
              "      <td>5.0 star rating</td>\n",
              "      <td>[checkin, love, love, love, atmosphere, corner...</td>\n",
              "    </tr>\n",
              "    <tr>\n",
              "      <th>1</th>\n",
              "      <td>The Factory - Cafe With a Soul</td>\n",
              "      <td>listed in date night austin ambiance in aust...</td>\n",
              "      <td>4.0 star rating</td>\n",
              "      <td>[list, date, night, austin, ambiance, austin, ...</td>\n",
              "    </tr>\n",
              "    <tr>\n",
              "      <th>2</th>\n",
              "      <td>The Factory - Cafe With a Soul</td>\n",
              "      <td>checkin listed in brunch spots i loved the ...</td>\n",
              "      <td>4.0 star rating</td>\n",
              "      <td>[checkin, list, brunch, spot, love, eclectic, ...</td>\n",
              "    </tr>\n",
              "    <tr>\n",
              "      <th>3</th>\n",
              "      <td>The Factory - Cafe With a Soul</td>\n",
              "      <td>very cool decor good drinks nice seating  ho...</td>\n",
              "      <td>2.0 star rating</td>\n",
              "      <td>[cool, decor, good, drink, nice, seating, over...</td>\n",
              "    </tr>\n",
              "    <tr>\n",
              "      <th>4</th>\n",
              "      <td>The Factory - Cafe With a Soul</td>\n",
              "      <td>checkin they are located within the northcr...</td>\n",
              "      <td>4.0 star rating</td>\n",
              "      <td>[checkin, locate, northcross, mall, shopping, ...</td>\n",
              "    </tr>\n",
              "  </tbody>\n",
              "</table>\n",
              "</div>\n",
              "      <button class=\"colab-df-convert\" onclick=\"convertToInteractive('df-47829de7-9107-4fdd-acb2-4b8e0355a14f')\"\n",
              "              title=\"Convert this dataframe to an interactive table.\"\n",
              "              style=\"display:none;\">\n",
              "        \n",
              "  <svg xmlns=\"http://www.w3.org/2000/svg\" height=\"24px\"viewBox=\"0 0 24 24\"\n",
              "       width=\"24px\">\n",
              "    <path d=\"M0 0h24v24H0V0z\" fill=\"none\"/>\n",
              "    <path d=\"M18.56 5.44l.94 2.06.94-2.06 2.06-.94-2.06-.94-.94-2.06-.94 2.06-2.06.94zm-11 1L8.5 8.5l.94-2.06 2.06-.94-2.06-.94L8.5 2.5l-.94 2.06-2.06.94zm10 10l.94 2.06.94-2.06 2.06-.94-2.06-.94-.94-2.06-.94 2.06-2.06.94z\"/><path d=\"M17.41 7.96l-1.37-1.37c-.4-.4-.92-.59-1.43-.59-.52 0-1.04.2-1.43.59L10.3 9.45l-7.72 7.72c-.78.78-.78 2.05 0 2.83L4 21.41c.39.39.9.59 1.41.59.51 0 1.02-.2 1.41-.59l7.78-7.78 2.81-2.81c.8-.78.8-2.07 0-2.86zM5.41 20L4 18.59l7.72-7.72 1.47 1.35L5.41 20z\"/>\n",
              "  </svg>\n",
              "      </button>\n",
              "      \n",
              "  <style>\n",
              "    .colab-df-container {\n",
              "      display:flex;\n",
              "      flex-wrap:wrap;\n",
              "      gap: 12px;\n",
              "    }\n",
              "\n",
              "    .colab-df-convert {\n",
              "      background-color: #E8F0FE;\n",
              "      border: none;\n",
              "      border-radius: 50%;\n",
              "      cursor: pointer;\n",
              "      display: none;\n",
              "      fill: #1967D2;\n",
              "      height: 32px;\n",
              "      padding: 0 0 0 0;\n",
              "      width: 32px;\n",
              "    }\n",
              "\n",
              "    .colab-df-convert:hover {\n",
              "      background-color: #E2EBFA;\n",
              "      box-shadow: 0px 1px 2px rgba(60, 64, 67, 0.3), 0px 1px 3px 1px rgba(60, 64, 67, 0.15);\n",
              "      fill: #174EA6;\n",
              "    }\n",
              "\n",
              "    [theme=dark] .colab-df-convert {\n",
              "      background-color: #3B4455;\n",
              "      fill: #D2E3FC;\n",
              "    }\n",
              "\n",
              "    [theme=dark] .colab-df-convert:hover {\n",
              "      background-color: #434B5C;\n",
              "      box-shadow: 0px 1px 3px 1px rgba(0, 0, 0, 0.15);\n",
              "      filter: drop-shadow(0px 1px 2px rgba(0, 0, 0, 0.3));\n",
              "      fill: #FFFFFF;\n",
              "    }\n",
              "  </style>\n",
              "\n",
              "      <script>\n",
              "        const buttonEl =\n",
              "          document.querySelector('#df-47829de7-9107-4fdd-acb2-4b8e0355a14f button.colab-df-convert');\n",
              "        buttonEl.style.display =\n",
              "          google.colab.kernel.accessAllowed ? 'block' : 'none';\n",
              "\n",
              "        async function convertToInteractive(key) {\n",
              "          const element = document.querySelector('#df-47829de7-9107-4fdd-acb2-4b8e0355a14f');\n",
              "          const dataTable =\n",
              "            await google.colab.kernel.invokeFunction('convertToInteractive',\n",
              "                                                     [key], {});\n",
              "          if (!dataTable) return;\n",
              "\n",
              "          const docLinkHtml = 'Like what you see? Visit the ' +\n",
              "            '<a target=\"_blank\" href=https://colab.research.google.com/notebooks/data_table.ipynb>data table notebook</a>'\n",
              "            + ' to learn more about interactive tables.';\n",
              "          element.innerHTML = '';\n",
              "          dataTable['output_type'] = 'display_data';\n",
              "          await google.colab.output.renderOutput(dataTable, element);\n",
              "          const docLink = document.createElement('div');\n",
              "          docLink.innerHTML = docLinkHtml;\n",
              "          element.appendChild(docLink);\n",
              "        }\n",
              "      </script>\n",
              "    </div>\n",
              "  </div>\n",
              "  "
            ]
          },
          "metadata": {},
          "execution_count": 16
        }
      ]
    },
    {
      "cell_type": "markdown",
      "source": [
        "\n",
        "\n",
        "---\n",
        "\n",
        "\n",
        "## 2. How do we want to analyze these coffee shop tokens?\n",
        "\n",
        "- Overall word/token count\n",
        "- View counts by rating\n",
        "- *Hint:* a 'bad' coffee shop has a rating between 1 & 3 based on the distribution of ratings. A 'good' coffee shop is a 4 or 5.\n",
        "\n",
        "\n",
        "As a starting point let;s work through the following:\n",
        "\n",
        "1. Label reviews as either **good** or **bad** depending on their star rating\n",
        "2. Use the **count** function from lecture to perform some statistical analysis of our tokens"
      ],
      "metadata": {
        "id": "HFhqw6eKdeqI"
      }
    },
    {
      "cell_type": "markdown",
      "source": [
        "### **2.1. Label reviews as either good or bad depending on their star rating**"
      ],
      "metadata": {
        "id": "8gdp81m1Vdas"
      }
    },
    {
      "cell_type": "code",
      "source": [
        "# notice how the star_rating is an object data type?\n",
        "# that's because it's a combination of a number of text data\n",
        "# so we need to strip the text and cast the number as a floating point\n",
        "\n",
        "df.dtypes"
      ],
      "metadata": {
        "colab": {
          "base_uri": "https://localhost:8080/"
        },
        "id": "8Bab6Yat4GmW",
        "outputId": "110b2847-5d6e-49a5-b246-8200812bc48e"
      },
      "execution_count": 17,
      "outputs": [
        {
          "output_type": "execute_result",
          "data": {
            "text/plain": [
              "coffee_shop_name    object\n",
              "full_review_text    object\n",
              "star_rating         object\n",
              "lemmas              object\n",
              "dtype: object"
            ]
          },
          "metadata": {},
          "execution_count": 17
        }
      ]
    },
    {
      "cell_type": "code",
      "source": [
        "df.star_rating.iloc[:3]"
      ],
      "metadata": {
        "colab": {
          "base_uri": "https://localhost:8080/"
        },
        "id": "wYD1_aHL4ti_",
        "outputId": "9f735e54-118d-4d38-ccb9-65549d2f6966"
      },
      "execution_count": 18,
      "outputs": [
        {
          "output_type": "execute_result",
          "data": {
            "text/plain": [
              "0     5.0 star rating \n",
              "1     4.0 star rating \n",
              "2     4.0 star rating \n",
              "Name: star_rating, dtype: object"
            ]
          },
          "metadata": {},
          "execution_count": 18
        }
      ]
    },
    {
      "cell_type": "code",
      "source": [
        "def get_sentiment(rating):\n",
        "  \"\"\"\n",
        "  Accepts a string or object data type star review and returns a numerical score for the review sentiment.\n",
        "\n",
        "  Parameters\n",
        "  ----------\n",
        "  rating : string or object\n",
        "\n",
        "  Returns\n",
        "  -------\n",
        "  sentiment score : boolean\n",
        "  \"\"\"\n",
        "\n",
        "  # strip out the text and convert string number into float number\n",
        "  num_rating = float(rating[:2])\n",
        "\n",
        "  # assign sentiment numerically\n",
        "  if num_rating >=4:\n",
        "    # 1 means positive sentiment\n",
        "    return 1\n",
        "  else:\n",
        "    # 0 means negative sentiment\n",
        "    return 0"
      ],
      "metadata": {
        "id": "JvsebaSy4zeK"
      },
      "execution_count": 19,
      "outputs": []
    },
    {
      "cell_type": "code",
      "source": [
        "df['sentiment'] = df.star_rating.apply(lambda rating: get_sentiment(rating))"
      ],
      "metadata": {
        "id": "yty4YTT05job"
      },
      "execution_count": 20,
      "outputs": []
    },
    {
      "cell_type": "code",
      "source": [
        "df.head()"
      ],
      "metadata": {
        "colab": {
          "base_uri": "https://localhost:8080/",
          "height": 206
        },
        "id": "MzyT5p2-5us_",
        "outputId": "36bfdb34-423b-4004-d075-10d908a2f512"
      },
      "execution_count": 21,
      "outputs": [
        {
          "output_type": "execute_result",
          "data": {
            "text/plain": [
              "                  coffee_shop_name  \\\n",
              "0  The Factory - Cafe With a Soul    \n",
              "1  The Factory - Cafe With a Soul    \n",
              "2  The Factory - Cafe With a Soul    \n",
              "3  The Factory - Cafe With a Soul    \n",
              "4  The Factory - Cafe With a Soul    \n",
              "\n",
              "                                    full_review_text        star_rating  \\\n",
              "0     checkin love love loved the atmosphere ever...   5.0 star rating    \n",
              "1    listed in date night austin ambiance in aust...   4.0 star rating    \n",
              "2     checkin listed in brunch spots i loved the ...   4.0 star rating    \n",
              "3    very cool decor good drinks nice seating  ho...   2.0 star rating    \n",
              "4     checkin they are located within the northcr...   4.0 star rating    \n",
              "\n",
              "                                              lemmas  sentiment  \n",
              "0  [checkin, love, love, love, atmosphere, corner...          1  \n",
              "1  [list, date, night, austin, ambiance, austin, ...          1  \n",
              "2  [checkin, list, brunch, spot, love, eclectic, ...          1  \n",
              "3  [cool, decor, good, drink, nice, seating, over...          0  \n",
              "4  [checkin, locate, northcross, mall, shopping, ...          1  "
            ],
            "text/html": [
              "\n",
              "  <div id=\"df-fc0c8b5a-c454-4356-8200-2102b1a53480\">\n",
              "    <div class=\"colab-df-container\">\n",
              "      <div>\n",
              "<style scoped>\n",
              "    .dataframe tbody tr th:only-of-type {\n",
              "        vertical-align: middle;\n",
              "    }\n",
              "\n",
              "    .dataframe tbody tr th {\n",
              "        vertical-align: top;\n",
              "    }\n",
              "\n",
              "    .dataframe thead th {\n",
              "        text-align: right;\n",
              "    }\n",
              "</style>\n",
              "<table border=\"1\" class=\"dataframe\">\n",
              "  <thead>\n",
              "    <tr style=\"text-align: right;\">\n",
              "      <th></th>\n",
              "      <th>coffee_shop_name</th>\n",
              "      <th>full_review_text</th>\n",
              "      <th>star_rating</th>\n",
              "      <th>lemmas</th>\n",
              "      <th>sentiment</th>\n",
              "    </tr>\n",
              "  </thead>\n",
              "  <tbody>\n",
              "    <tr>\n",
              "      <th>0</th>\n",
              "      <td>The Factory - Cafe With a Soul</td>\n",
              "      <td>checkin love love loved the atmosphere ever...</td>\n",
              "      <td>5.0 star rating</td>\n",
              "      <td>[checkin, love, love, love, atmosphere, corner...</td>\n",
              "      <td>1</td>\n",
              "    </tr>\n",
              "    <tr>\n",
              "      <th>1</th>\n",
              "      <td>The Factory - Cafe With a Soul</td>\n",
              "      <td>listed in date night austin ambiance in aust...</td>\n",
              "      <td>4.0 star rating</td>\n",
              "      <td>[list, date, night, austin, ambiance, austin, ...</td>\n",
              "      <td>1</td>\n",
              "    </tr>\n",
              "    <tr>\n",
              "      <th>2</th>\n",
              "      <td>The Factory - Cafe With a Soul</td>\n",
              "      <td>checkin listed in brunch spots i loved the ...</td>\n",
              "      <td>4.0 star rating</td>\n",
              "      <td>[checkin, list, brunch, spot, love, eclectic, ...</td>\n",
              "      <td>1</td>\n",
              "    </tr>\n",
              "    <tr>\n",
              "      <th>3</th>\n",
              "      <td>The Factory - Cafe With a Soul</td>\n",
              "      <td>very cool decor good drinks nice seating  ho...</td>\n",
              "      <td>2.0 star rating</td>\n",
              "      <td>[cool, decor, good, drink, nice, seating, over...</td>\n",
              "      <td>0</td>\n",
              "    </tr>\n",
              "    <tr>\n",
              "      <th>4</th>\n",
              "      <td>The Factory - Cafe With a Soul</td>\n",
              "      <td>checkin they are located within the northcr...</td>\n",
              "      <td>4.0 star rating</td>\n",
              "      <td>[checkin, locate, northcross, mall, shopping, ...</td>\n",
              "      <td>1</td>\n",
              "    </tr>\n",
              "  </tbody>\n",
              "</table>\n",
              "</div>\n",
              "      <button class=\"colab-df-convert\" onclick=\"convertToInteractive('df-fc0c8b5a-c454-4356-8200-2102b1a53480')\"\n",
              "              title=\"Convert this dataframe to an interactive table.\"\n",
              "              style=\"display:none;\">\n",
              "        \n",
              "  <svg xmlns=\"http://www.w3.org/2000/svg\" height=\"24px\"viewBox=\"0 0 24 24\"\n",
              "       width=\"24px\">\n",
              "    <path d=\"M0 0h24v24H0V0z\" fill=\"none\"/>\n",
              "    <path d=\"M18.56 5.44l.94 2.06.94-2.06 2.06-.94-2.06-.94-.94-2.06-.94 2.06-2.06.94zm-11 1L8.5 8.5l.94-2.06 2.06-.94-2.06-.94L8.5 2.5l-.94 2.06-2.06.94zm10 10l.94 2.06.94-2.06 2.06-.94-2.06-.94-.94-2.06-.94 2.06-2.06.94z\"/><path d=\"M17.41 7.96l-1.37-1.37c-.4-.4-.92-.59-1.43-.59-.52 0-1.04.2-1.43.59L10.3 9.45l-7.72 7.72c-.78.78-.78 2.05 0 2.83L4 21.41c.39.39.9.59 1.41.59.51 0 1.02-.2 1.41-.59l7.78-7.78 2.81-2.81c.8-.78.8-2.07 0-2.86zM5.41 20L4 18.59l7.72-7.72 1.47 1.35L5.41 20z\"/>\n",
              "  </svg>\n",
              "      </button>\n",
              "      \n",
              "  <style>\n",
              "    .colab-df-container {\n",
              "      display:flex;\n",
              "      flex-wrap:wrap;\n",
              "      gap: 12px;\n",
              "    }\n",
              "\n",
              "    .colab-df-convert {\n",
              "      background-color: #E8F0FE;\n",
              "      border: none;\n",
              "      border-radius: 50%;\n",
              "      cursor: pointer;\n",
              "      display: none;\n",
              "      fill: #1967D2;\n",
              "      height: 32px;\n",
              "      padding: 0 0 0 0;\n",
              "      width: 32px;\n",
              "    }\n",
              "\n",
              "    .colab-df-convert:hover {\n",
              "      background-color: #E2EBFA;\n",
              "      box-shadow: 0px 1px 2px rgba(60, 64, 67, 0.3), 0px 1px 3px 1px rgba(60, 64, 67, 0.15);\n",
              "      fill: #174EA6;\n",
              "    }\n",
              "\n",
              "    [theme=dark] .colab-df-convert {\n",
              "      background-color: #3B4455;\n",
              "      fill: #D2E3FC;\n",
              "    }\n",
              "\n",
              "    [theme=dark] .colab-df-convert:hover {\n",
              "      background-color: #434B5C;\n",
              "      box-shadow: 0px 1px 3px 1px rgba(0, 0, 0, 0.15);\n",
              "      filter: drop-shadow(0px 1px 2px rgba(0, 0, 0, 0.3));\n",
              "      fill: #FFFFFF;\n",
              "    }\n",
              "  </style>\n",
              "\n",
              "      <script>\n",
              "        const buttonEl =\n",
              "          document.querySelector('#df-fc0c8b5a-c454-4356-8200-2102b1a53480 button.colab-df-convert');\n",
              "        buttonEl.style.display =\n",
              "          google.colab.kernel.accessAllowed ? 'block' : 'none';\n",
              "\n",
              "        async function convertToInteractive(key) {\n",
              "          const element = document.querySelector('#df-fc0c8b5a-c454-4356-8200-2102b1a53480');\n",
              "          const dataTable =\n",
              "            await google.colab.kernel.invokeFunction('convertToInteractive',\n",
              "                                                     [key], {});\n",
              "          if (!dataTable) return;\n",
              "\n",
              "          const docLinkHtml = 'Like what you see? Visit the ' +\n",
              "            '<a target=\"_blank\" href=https://colab.research.google.com/notebooks/data_table.ipynb>data table notebook</a>'\n",
              "            + ' to learn more about interactive tables.';\n",
              "          element.innerHTML = '';\n",
              "          dataTable['output_type'] = 'display_data';\n",
              "          await google.colab.output.renderOutput(dataTable, element);\n",
              "          const docLink = document.createElement('div');\n",
              "          docLink.innerHTML = docLinkHtml;\n",
              "          element.appendChild(docLink);\n",
              "        }\n",
              "      </script>\n",
              "    </div>\n",
              "  </div>\n",
              "  "
            ]
          },
          "metadata": {},
          "execution_count": 21
        }
      ]
    },
    {
      "cell_type": "markdown",
      "source": [
        "### **2.2. Use the count function from lecture to perform some statistical analysis of our tokens**"
      ],
      "metadata": {
        "id": "AHxRt6ua7xt8"
      }
    },
    {
      "cell_type": "code",
      "metadata": {
        "id": "ypyH-_x1GErX"
      },
      "source": [
        "from collections import Counter\n",
        "\n",
        "def count(tokens):\n",
        "    \"\"\"\n",
        "    Calculates some basic statistics about tokens in our corpus (i.e. corpus means collections text data)\n",
        "\n",
        "    Parameters\n",
        "    ----------\n",
        "    tokens : pandas Series or list of lists\n",
        "\n",
        "    Returns\n",
        "    -------\n",
        "    wc : pandas DataFrame\n",
        "    \"\"\"\n",
        "\n",
        "    # stores the count of each token\n",
        "    word_counts = Counter()\n",
        "    \n",
        "    # stores the number of docs that each token appears in \n",
        "    appears_in = Counter()\n",
        "\n",
        "    total_docs = len(tokens)\n",
        "\n",
        "    for token in tokens:\n",
        "        # stores count of every appearance of a token \n",
        "        word_counts.update(token)   \n",
        "        # use set() in order to not count duplicates, thereby count the num of \n",
        "        # docs that each token appears in\n",
        "        appears_in.update(set(token))\n",
        "\n",
        "    # build word count dataframe\n",
        "    temp = zip(word_counts.keys(), word_counts.values())\n",
        "    wc = pd.DataFrame(temp, columns = ['word', 'count'])\n",
        "\n",
        "    # rank the the word counts\n",
        "    wc['rank'] = wc['count'].rank(method='first', ascending=False)\n",
        "    total = wc['count'].sum()\n",
        "\n",
        "    # calculate the percent total of each token\n",
        "    wc['pct_total'] = wc['count'].apply(lambda token_count: token_count / total * 100)\n",
        "\n",
        "    # calculate the cumulative percent total of word counts \n",
        "    wc = wc.sort_values(by='rank')\n",
        "    wc['cul_pct_total'] = wc['pct_total'].cumsum()\n",
        "\n",
        "    # create dataframe for document stats\n",
        "    t2 = zip(appears_in.keys(), appears_in.values())\n",
        "    ac = pd.DataFrame(t2, columns=['word', 'appears_in'])\n",
        "    \n",
        "    # merge word count stats with doc stats\n",
        "    wc = ac.merge(wc, on='word')\n",
        "\n",
        "    wc['appears_in_pct'] = wc['appears_in'].apply(lambda x: x / total_docs * 100)\n",
        "\n",
        "    return wc.sort_values(by='rank')"
      ],
      "execution_count": 22,
      "outputs": []
    },
    {
      "cell_type": "code",
      "source": [
        "df_wc = count(df['lemmas'])"
      ],
      "metadata": {
        "id": "K-JqcTtw9pMW"
      },
      "execution_count": 23,
      "outputs": []
    },
    {
      "cell_type": "markdown",
      "metadata": {
        "id": "cBoda7E4S5K_"
      },
      "source": [
        "#### Summary of the descriptive token statistics \n",
        "\n",
        "`word` The specific token that is being analyzed\n",
        "\n",
        "`appears_in` Number of documents that the word/token appears in\n",
        "\n",
        "`count` The total number of appearances of that token within the corpus \n",
        "\n",
        "`rank` Ranking of tokens by count \n",
        "\n",
        "`pct_total` Percent of the total tokens that this token makes up\n",
        "\n",
        "`cul_pct_total` Cumulative percent total of ranked tokens\n",
        "\n",
        "`appears_in_pct` Percentage of documents that token appears in "
      ]
    },
    {
      "cell_type": "code",
      "source": [
        "df_wc.head(10)"
      ],
      "metadata": {
        "colab": {
          "base_uri": "https://localhost:8080/",
          "height": 362
        },
        "id": "7BmgF0qN-SH5",
        "outputId": "3e066f6e-6188-47d8-9827-db1b624c4f70"
      },
      "execution_count": 24,
      "outputs": [
        {
          "output_type": "execute_result",
          "data": {
            "text/plain": [
              "        word  appears_in  count  rank  pct_total  cul_pct_total  \\\n",
              "29    coffee        4923  10593   1.0   2.942288       2.942288   \n",
              "110    place        3888   6044   2.0   1.678768       4.621055   \n",
              "157     good        3596   5392   3.0   1.497670       6.118725   \n",
              "116      not        3055   5175   4.0   1.437396       7.556121   \n",
              "98     great        2853   3946   5.0   1.096032       8.652153   \n",
              "153     like        2261   3351   6.0   0.930766       9.582919   \n",
              "4    checkin        2969   2985   7.0   0.829107      10.412026   \n",
              "436     come        1934   2634   8.0   0.731614      11.143640   \n",
              "38      love        1816   2372   9.0   0.658841      11.802481   \n",
              "464     time        1749   2372  10.0   0.658841      12.461322   \n",
              "\n",
              "     appears_in_pct  \n",
              "29        64.640231  \n",
              "110       51.050420  \n",
              "157       47.216387  \n",
              "116       40.112920  \n",
              "98        37.460609  \n",
              "153       29.687500  \n",
              "4         38.983718  \n",
              "436       25.393908  \n",
              "38        23.844538  \n",
              "464       22.964811  "
            ],
            "text/html": [
              "\n",
              "  <div id=\"df-acf2d388-2e5a-4f8d-8588-4d1602cbe0df\">\n",
              "    <div class=\"colab-df-container\">\n",
              "      <div>\n",
              "<style scoped>\n",
              "    .dataframe tbody tr th:only-of-type {\n",
              "        vertical-align: middle;\n",
              "    }\n",
              "\n",
              "    .dataframe tbody tr th {\n",
              "        vertical-align: top;\n",
              "    }\n",
              "\n",
              "    .dataframe thead th {\n",
              "        text-align: right;\n",
              "    }\n",
              "</style>\n",
              "<table border=\"1\" class=\"dataframe\">\n",
              "  <thead>\n",
              "    <tr style=\"text-align: right;\">\n",
              "      <th></th>\n",
              "      <th>word</th>\n",
              "      <th>appears_in</th>\n",
              "      <th>count</th>\n",
              "      <th>rank</th>\n",
              "      <th>pct_total</th>\n",
              "      <th>cul_pct_total</th>\n",
              "      <th>appears_in_pct</th>\n",
              "    </tr>\n",
              "  </thead>\n",
              "  <tbody>\n",
              "    <tr>\n",
              "      <th>29</th>\n",
              "      <td>coffee</td>\n",
              "      <td>4923</td>\n",
              "      <td>10593</td>\n",
              "      <td>1.0</td>\n",
              "      <td>2.942288</td>\n",
              "      <td>2.942288</td>\n",
              "      <td>64.640231</td>\n",
              "    </tr>\n",
              "    <tr>\n",
              "      <th>110</th>\n",
              "      <td>place</td>\n",
              "      <td>3888</td>\n",
              "      <td>6044</td>\n",
              "      <td>2.0</td>\n",
              "      <td>1.678768</td>\n",
              "      <td>4.621055</td>\n",
              "      <td>51.050420</td>\n",
              "    </tr>\n",
              "    <tr>\n",
              "      <th>157</th>\n",
              "      <td>good</td>\n",
              "      <td>3596</td>\n",
              "      <td>5392</td>\n",
              "      <td>3.0</td>\n",
              "      <td>1.497670</td>\n",
              "      <td>6.118725</td>\n",
              "      <td>47.216387</td>\n",
              "    </tr>\n",
              "    <tr>\n",
              "      <th>116</th>\n",
              "      <td>not</td>\n",
              "      <td>3055</td>\n",
              "      <td>5175</td>\n",
              "      <td>4.0</td>\n",
              "      <td>1.437396</td>\n",
              "      <td>7.556121</td>\n",
              "      <td>40.112920</td>\n",
              "    </tr>\n",
              "    <tr>\n",
              "      <th>98</th>\n",
              "      <td>great</td>\n",
              "      <td>2853</td>\n",
              "      <td>3946</td>\n",
              "      <td>5.0</td>\n",
              "      <td>1.096032</td>\n",
              "      <td>8.652153</td>\n",
              "      <td>37.460609</td>\n",
              "    </tr>\n",
              "    <tr>\n",
              "      <th>153</th>\n",
              "      <td>like</td>\n",
              "      <td>2261</td>\n",
              "      <td>3351</td>\n",
              "      <td>6.0</td>\n",
              "      <td>0.930766</td>\n",
              "      <td>9.582919</td>\n",
              "      <td>29.687500</td>\n",
              "    </tr>\n",
              "    <tr>\n",
              "      <th>4</th>\n",
              "      <td>checkin</td>\n",
              "      <td>2969</td>\n",
              "      <td>2985</td>\n",
              "      <td>7.0</td>\n",
              "      <td>0.829107</td>\n",
              "      <td>10.412026</td>\n",
              "      <td>38.983718</td>\n",
              "    </tr>\n",
              "    <tr>\n",
              "      <th>436</th>\n",
              "      <td>come</td>\n",
              "      <td>1934</td>\n",
              "      <td>2634</td>\n",
              "      <td>8.0</td>\n",
              "      <td>0.731614</td>\n",
              "      <td>11.143640</td>\n",
              "      <td>25.393908</td>\n",
              "    </tr>\n",
              "    <tr>\n",
              "      <th>38</th>\n",
              "      <td>love</td>\n",
              "      <td>1816</td>\n",
              "      <td>2372</td>\n",
              "      <td>9.0</td>\n",
              "      <td>0.658841</td>\n",
              "      <td>11.802481</td>\n",
              "      <td>23.844538</td>\n",
              "    </tr>\n",
              "    <tr>\n",
              "      <th>464</th>\n",
              "      <td>time</td>\n",
              "      <td>1749</td>\n",
              "      <td>2372</td>\n",
              "      <td>10.0</td>\n",
              "      <td>0.658841</td>\n",
              "      <td>12.461322</td>\n",
              "      <td>22.964811</td>\n",
              "    </tr>\n",
              "  </tbody>\n",
              "</table>\n",
              "</div>\n",
              "      <button class=\"colab-df-convert\" onclick=\"convertToInteractive('df-acf2d388-2e5a-4f8d-8588-4d1602cbe0df')\"\n",
              "              title=\"Convert this dataframe to an interactive table.\"\n",
              "              style=\"display:none;\">\n",
              "        \n",
              "  <svg xmlns=\"http://www.w3.org/2000/svg\" height=\"24px\"viewBox=\"0 0 24 24\"\n",
              "       width=\"24px\">\n",
              "    <path d=\"M0 0h24v24H0V0z\" fill=\"none\"/>\n",
              "    <path d=\"M18.56 5.44l.94 2.06.94-2.06 2.06-.94-2.06-.94-.94-2.06-.94 2.06-2.06.94zm-11 1L8.5 8.5l.94-2.06 2.06-.94-2.06-.94L8.5 2.5l-.94 2.06-2.06.94zm10 10l.94 2.06.94-2.06 2.06-.94-2.06-.94-.94-2.06-.94 2.06-2.06.94z\"/><path d=\"M17.41 7.96l-1.37-1.37c-.4-.4-.92-.59-1.43-.59-.52 0-1.04.2-1.43.59L10.3 9.45l-7.72 7.72c-.78.78-.78 2.05 0 2.83L4 21.41c.39.39.9.59 1.41.59.51 0 1.02-.2 1.41-.59l7.78-7.78 2.81-2.81c.8-.78.8-2.07 0-2.86zM5.41 20L4 18.59l7.72-7.72 1.47 1.35L5.41 20z\"/>\n",
              "  </svg>\n",
              "      </button>\n",
              "      \n",
              "  <style>\n",
              "    .colab-df-container {\n",
              "      display:flex;\n",
              "      flex-wrap:wrap;\n",
              "      gap: 12px;\n",
              "    }\n",
              "\n",
              "    .colab-df-convert {\n",
              "      background-color: #E8F0FE;\n",
              "      border: none;\n",
              "      border-radius: 50%;\n",
              "      cursor: pointer;\n",
              "      display: none;\n",
              "      fill: #1967D2;\n",
              "      height: 32px;\n",
              "      padding: 0 0 0 0;\n",
              "      width: 32px;\n",
              "    }\n",
              "\n",
              "    .colab-df-convert:hover {\n",
              "      background-color: #E2EBFA;\n",
              "      box-shadow: 0px 1px 2px rgba(60, 64, 67, 0.3), 0px 1px 3px 1px rgba(60, 64, 67, 0.15);\n",
              "      fill: #174EA6;\n",
              "    }\n",
              "\n",
              "    [theme=dark] .colab-df-convert {\n",
              "      background-color: #3B4455;\n",
              "      fill: #D2E3FC;\n",
              "    }\n",
              "\n",
              "    [theme=dark] .colab-df-convert:hover {\n",
              "      background-color: #434B5C;\n",
              "      box-shadow: 0px 1px 3px 1px rgba(0, 0, 0, 0.15);\n",
              "      filter: drop-shadow(0px 1px 2px rgba(0, 0, 0, 0.3));\n",
              "      fill: #FFFFFF;\n",
              "    }\n",
              "  </style>\n",
              "\n",
              "      <script>\n",
              "        const buttonEl =\n",
              "          document.querySelector('#df-acf2d388-2e5a-4f8d-8588-4d1602cbe0df button.colab-df-convert');\n",
              "        buttonEl.style.display =\n",
              "          google.colab.kernel.accessAllowed ? 'block' : 'none';\n",
              "\n",
              "        async function convertToInteractive(key) {\n",
              "          const element = document.querySelector('#df-acf2d388-2e5a-4f8d-8588-4d1602cbe0df');\n",
              "          const dataTable =\n",
              "            await google.colab.kernel.invokeFunction('convertToInteractive',\n",
              "                                                     [key], {});\n",
              "          if (!dataTable) return;\n",
              "\n",
              "          const docLinkHtml = 'Like what you see? Visit the ' +\n",
              "            '<a target=\"_blank\" href=https://colab.research.google.com/notebooks/data_table.ipynb>data table notebook</a>'\n",
              "            + ' to learn more about interactive tables.';\n",
              "          element.innerHTML = '';\n",
              "          dataTable['output_type'] = 'display_data';\n",
              "          await google.colab.output.renderOutput(dataTable, element);\n",
              "          const docLink = document.createElement('div');\n",
              "          docLink.innerHTML = docLinkHtml;\n",
              "          element.appendChild(docLink);\n",
              "        }\n",
              "      </script>\n",
              "    </div>\n",
              "  </div>\n",
              "  "
            ]
          },
          "metadata": {},
          "execution_count": 24
        }
      ]
    },
    {
      "cell_type": "markdown",
      "source": [
        "**Visualize top N tokens using a word cloud**"
      ],
      "metadata": {
        "id": "Dt2sYciB_M_x"
      }
    },
    {
      "cell_type": "code",
      "metadata": {
        "colab": {
          "base_uri": "https://localhost:8080/",
          "height": 411
        },
        "id": "JWIXe-TK2zhU",
        "outputId": "22f03f59-0d3e-47cd-f2e9-e4cc84f6e79b"
      },
      "source": [
        "# visualize the 20 most common tokens with squarify\n",
        "# Lots of stopwords!\n",
        "\n",
        "top_N_tokens = 20\n",
        "wc_top20 = df_wc[df_wc['rank'] <= top_N_tokens] \n",
        "\n",
        "plt.figure(figsize=(10,7))\n",
        "squarify.plot(sizes=wc_top20['pct_total'], label=wc_top20['word'], alpha=.8 )\n",
        "plt.axis('off')\n",
        "plt.show()"
      ],
      "execution_count": 27,
      "outputs": [
        {
          "output_type": "display_data",
          "data": {
            "text/plain": [
              "<Figure size 720x504 with 1 Axes>"
            ],
            "image/png": "[encoded data removed]"
          },
          "metadata": {
            "needs_background": "light"
          }
        }
      ]
    },
    {
      "cell_type": "markdown",
      "source": [
        "**Observation:**\n",
        "\n",
        "In the word cloud, we can see that there are some words that could be considered stop words such as try, get, m and even the word coffee. One such futher step that we could take is to expand the default stop word set that the pre-trained spacy model has."
      ],
      "metadata": {
        "id": "AM9GqNbiBJRH"
      }
    },
    {
      "cell_type": "markdown",
      "source": [
        "**Visualize the cumulative percent total of tokens**"
      ],
      "metadata": {
        "id": "4v1ZJw1nC2G7"
      }
    },
    {
      "cell_type": "code",
      "source": [
        "plt.figure(figsize=(15,6))\n",
        "plt.grid()\n",
        "# Frequency if appears in documents\n",
        "sns.lineplot(x='rank', y='cul_pct_total', data=df_wc);"
      ],
      "metadata": {
        "colab": {
          "base_uri": "https://localhost:8080/",
          "height": 388
        },
        "id": "hJQlilrAC7zD",
        "outputId": "b487535b-7164-455e-a0a1-2ce9be6ca930"
      },
      "execution_count": 29,
      "outputs": [
        {
          "output_type": "display_data",
          "data": {
            "text/plain": [
              "<Figure size 1080x432 with 1 Axes>"
            ],
            "image/png": "[encoded data removed]"
          },
          "metadata": {
            "needs_background": "light"
          }
        }
      ]
    },
    {
      "cell_type": "markdown",
      "source": [
        "We can see that a very small number of words /tokens make up a very large percentage of total token counts in our corpus. In other words, there are relatively few words that are used a lot in writing. Thinking back to the word cloud we just created, it's likely safe to assume that a lot of these words are stop words. Again, further analysis will have to be done in order to identify those words that one should consider adding to the stop word set. \n",
        "\n",
        "Let's take the output of the count function and try to answer a question regarding this plot we just created.\n",
        "\n",
        "Looking at the above plot, the following question comes to mind: **What percentage of tokens make up the 80% of all tokens that appear in our corpus?**\n",
        "\n",
        "**Why focus on 80%?** Why not 50% or 60%? The motivation for choosing 80% brings us to the Pareto Principle sometimes referred as the 80/20 rule.\n",
        "\n",
        "It states that `roughly 80% of the consequences/output/ results come from 20% of the causes/input`. This is a good principle to keep in mind as Data Scientist. It pops up a lot."
      ],
      "metadata": {
        "id": "uhfAGs2uDQbB"
      }
    },
    {
      "cell_type": "code",
      "source": [
        "# let's create a mask that keeps the tokens that make up 80% of all \n",
        "# tokens counts\n",
        "less_than_80_mask = df_wc['cul_pct_total'] < 80\n",
        "N_words_below_80 = df_wc['cul_pct_total'][less_than_80_mask].shape[0]\n",
        "N_words_below_80 # this is how many tokens make up 80% of all token counts"
      ],
      "metadata": {
        "colab": {
          "base_uri": "https://localhost:8080/"
        },
        "id": "lEpOp1QIGHOr",
        "outputId": "e18fc5e1-a07e-4b45-ed83-4e89f0db148f"
      },
      "execution_count": 33,
      "outputs": [
        {
          "output_type": "execute_result",
          "data": {
            "text/plain": [
              "979"
            ]
          },
          "metadata": {},
          "execution_count": 33
        }
      ]
    },
    {
      "cell_type": "code",
      "source": [
        "total_N_tokens =  df_wc.shape[0]\n",
        "total_N_tokens # this is the total number of unique tokens in our corpus"
      ],
      "metadata": {
        "colab": {
          "base_uri": "https://localhost:8080/"
        },
        "id": "9_4VSWtXG52B",
        "outputId": "a4e9c65e-0166-484c-eb7c-f461c3a0abdb"
      },
      "execution_count": 35,
      "outputs": [
        {
          "output_type": "execute_result",
          "data": {
            "text/plain": [
              "16066"
            ]
          },
          "metadata": {},
          "execution_count": 35
        }
      ]
    },
    {
      "cell_type": "code",
      "source": [
        "# percentage of tokens that make up 80% of alltoken counts, \n",
        "# which is far less than 20% \n",
        "N_words_below_80/total_N_tokens * 100"
      ],
      "metadata": {
        "colab": {
          "base_uri": "https://localhost:8080/"
        },
        "id": "5ytC5Px2HZLC",
        "outputId": "3e081f17-9997-46a2-a8bb-d413b962b8f7"
      },
      "execution_count": 37,
      "outputs": [
        {
          "output_type": "execute_result",
          "data": {
            "text/plain": [
              "6.093613842898046"
            ]
          },
          "metadata": {},
          "execution_count": 37
        }
      ]
    },
    {
      "cell_type": "markdown",
      "source": [
        "**Visualize the words with the greates difference in counts between 'good' and 'bad'**\n",
        "\n",
        "Couple Notes:\n",
        "- Rel.freq. instead of absolute counts b/c of different numbers of reviews\n",
        "- Only look at the top 5-10 words with the greatest differences\n",
        "\n",
        "In order to compare the relative frequency of token counts between good and bad reviews, let's do the following.\n",
        "\n",
        "1. Split the data between good and bad reviews\n",
        "2. Re-apply the count function on each split\n",
        "3. Sort through the results and make some observations\n",
        "\n",
        "\n",
        "**1. Split the data between good and bad reviews**"
      ],
      "metadata": {
        "id": "W8sljIdpH150"
      }
    },
    {
      "cell_type": "code",
      "source": [
        "df.head()"
      ],
      "metadata": {
        "colab": {
          "base_uri": "https://localhost:8080/",
          "height": 206
        },
        "id": "NySVgyMJI49c",
        "outputId": "0e8f0abe-ead0-4847-baa0-854e52245d25"
      },
      "execution_count": 38,
      "outputs": [
        {
          "output_type": "execute_result",
          "data": {
            "text/plain": [
              "                  coffee_shop_name  \\\n",
              "0  The Factory - Cafe With a Soul    \n",
              "1  The Factory - Cafe With a Soul    \n",
              "2  The Factory - Cafe With a Soul    \n",
              "3  The Factory - Cafe With a Soul    \n",
              "4  The Factory - Cafe With a Soul    \n",
              "\n",
              "                                    full_review_text        star_rating  \\\n",
              "0     checkin love love loved the atmosphere ever...   5.0 star rating    \n",
              "1    listed in date night austin ambiance in aust...   4.0 star rating    \n",
              "2     checkin listed in brunch spots i loved the ...   4.0 star rating    \n",
              "3    very cool decor good drinks nice seating  ho...   2.0 star rating    \n",
              "4     checkin they are located within the northcr...   4.0 star rating    \n",
              "\n",
              "                                              lemmas  sentiment  \n",
              "0  [checkin, love, love, love, atmosphere, corner...          1  \n",
              "1  [list, date, night, austin, ambiance, austin, ...          1  \n",
              "2  [checkin, list, brunch, spot, love, eclectic, ...          1  \n",
              "3  [cool, decor, good, drink, nice, seating, over...          0  \n",
              "4  [checkin, locate, northcross, mall, shopping, ...          1  "
            ],
            "text/html": [
              "\n",
              "  <div id=\"df-182eef3d-5154-4461-9101-6f52b08f0f92\">\n",
              "    <div class=\"colab-df-container\">\n",
              "      <div>\n",
              "<style scoped>\n",
              "    .dataframe tbody tr th:only-of-type {\n",
              "        vertical-align: middle;\n",
              "    }\n",
              "\n",
              "    .dataframe tbody tr th {\n",
              "        vertical-align: top;\n",
              "    }\n",
              "\n",
              "    .dataframe thead th {\n",
              "        text-align: right;\n",
              "    }\n",
              "</style>\n",
              "<table border=\"1\" class=\"dataframe\">\n",
              "  <thead>\n",
              "    <tr style=\"text-align: right;\">\n",
              "      <th></th>\n",
              "      <th>coffee_shop_name</th>\n",
              "      <th>full_review_text</th>\n",
              "      <th>star_rating</th>\n",
              "      <th>lemmas</th>\n",
              "      <th>sentiment</th>\n",
              "    </tr>\n",
              "  </thead>\n",
              "  <tbody>\n",
              "    <tr>\n",
              "      <th>0</th>\n",
              "      <td>The Factory - Cafe With a Soul</td>\n",
              "      <td>checkin love love loved the atmosphere ever...</td>\n",
              "      <td>5.0 star rating</td>\n",
              "      <td>[checkin, love, love, love, atmosphere, corner...</td>\n",
              "      <td>1</td>\n",
              "    </tr>\n",
              "    <tr>\n",
              "      <th>1</th>\n",
              "      <td>The Factory - Cafe With a Soul</td>\n",
              "      <td>listed in date night austin ambiance in aust...</td>\n",
              "      <td>4.0 star rating</td>\n",
              "      <td>[list, date, night, austin, ambiance, austin, ...</td>\n",
              "      <td>1</td>\n",
              "    </tr>\n",
              "    <tr>\n",
              "      <th>2</th>\n",
              "      <td>The Factory - Cafe With a Soul</td>\n",
              "      <td>checkin listed in brunch spots i loved the ...</td>\n",
              "      <td>4.0 star rating</td>\n",
              "      <td>[checkin, list, brunch, spot, love, eclectic, ...</td>\n",
              "      <td>1</td>\n",
              "    </tr>\n",
              "    <tr>\n",
              "      <th>3</th>\n",
              "      <td>The Factory - Cafe With a Soul</td>\n",
              "      <td>very cool decor good drinks nice seating  ho...</td>\n",
              "      <td>2.0 star rating</td>\n",
              "      <td>[cool, decor, good, drink, nice, seating, over...</td>\n",
              "      <td>0</td>\n",
              "    </tr>\n",
              "    <tr>\n",
              "      <th>4</th>\n",
              "      <td>The Factory - Cafe With a Soul</td>\n",
              "      <td>checkin they are located within the northcr...</td>\n",
              "      <td>4.0 star rating</td>\n",
              "      <td>[checkin, locate, northcross, mall, shopping, ...</td>\n",
              "      <td>1</td>\n",
              "    </tr>\n",
              "  </tbody>\n",
              "</table>\n",
              "</div>\n",
              "      <button class=\"colab-df-convert\" onclick=\"convertToInteractive('df-182eef3d-5154-4461-9101-6f52b08f0f92')\"\n",
              "              title=\"Convert this dataframe to an interactive table.\"\n",
              "              style=\"display:none;\">\n",
              "        \n",
              "  <svg xmlns=\"http://www.w3.org/2000/svg\" height=\"24px\"viewBox=\"0 0 24 24\"\n",
              "       width=\"24px\">\n",
              "    <path d=\"M0 0h24v24H0V0z\" fill=\"none\"/>\n",
              "    <path d=\"M18.56 5.44l.94 2.06.94-2.06 2.06-.94-2.06-.94-.94-2.06-.94 2.06-2.06.94zm-11 1L8.5 8.5l.94-2.06 2.06-.94-2.06-.94L8.5 2.5l-.94 2.06-2.06.94zm10 10l.94 2.06.94-2.06 2.06-.94-2.06-.94-.94-2.06-.94 2.06-2.06.94z\"/><path d=\"M17.41 7.96l-1.37-1.37c-.4-.4-.92-.59-1.43-.59-.52 0-1.04.2-1.43.59L10.3 9.45l-7.72 7.72c-.78.78-.78 2.05 0 2.83L4 21.41c.39.39.9.59 1.41.59.51 0 1.02-.2 1.41-.59l7.78-7.78 2.81-2.81c.8-.78.8-2.07 0-2.86zM5.41 20L4 18.59l7.72-7.72 1.47 1.35L5.41 20z\"/>\n",
              "  </svg>\n",
              "      </button>\n",
              "      \n",
              "  <style>\n",
              "    .colab-df-container {\n",
              "      display:flex;\n",
              "      flex-wrap:wrap;\n",
              "      gap: 12px;\n",
              "    }\n",
              "\n",
              "    .colab-df-convert {\n",
              "      background-color: #E8F0FE;\n",
              "      border: none;\n",
              "      border-radius: 50%;\n",
              "      cursor: pointer;\n",
              "      display: none;\n",
              "      fill: #1967D2;\n",
              "      height: 32px;\n",
              "      padding: 0 0 0 0;\n",
              "      width: 32px;\n",
              "    }\n",
              "\n",
              "    .colab-df-convert:hover {\n",
              "      background-color: #E2EBFA;\n",
              "      box-shadow: 0px 1px 2px rgba(60, 64, 67, 0.3), 0px 1px 3px 1px rgba(60, 64, 67, 0.15);\n",
              "      fill: #174EA6;\n",
              "    }\n",
              "\n",
              "    [theme=dark] .colab-df-convert {\n",
              "      background-color: #3B4455;\n",
              "      fill: #D2E3FC;\n",
              "    }\n",
              "\n",
              "    [theme=dark] .colab-df-convert:hover {\n",
              "      background-color: #434B5C;\n",
              "      box-shadow: 0px 1px 3px 1px rgba(0, 0, 0, 0.15);\n",
              "      filter: drop-shadow(0px 1px 2px rgba(0, 0, 0, 0.3));\n",
              "      fill: #FFFFFF;\n",
              "    }\n",
              "  </style>\n",
              "\n",
              "      <script>\n",
              "        const buttonEl =\n",
              "          document.querySelector('#df-182eef3d-5154-4461-9101-6f52b08f0f92 button.colab-df-convert');\n",
              "        buttonEl.style.display =\n",
              "          google.colab.kernel.accessAllowed ? 'block' : 'none';\n",
              "\n",
              "        async function convertToInteractive(key) {\n",
              "          const element = document.querySelector('#df-182eef3d-5154-4461-9101-6f52b08f0f92');\n",
              "          const dataTable =\n",
              "            await google.colab.kernel.invokeFunction('convertToInteractive',\n",
              "                                                     [key], {});\n",
              "          if (!dataTable) return;\n",
              "\n",
              "          const docLinkHtml = 'Like what you see? Visit the ' +\n",
              "            '<a target=\"_blank\" href=https://colab.research.google.com/notebooks/data_table.ipynb>data table notebook</a>'\n",
              "            + ' to learn more about interactive tables.';\n",
              "          element.innerHTML = '';\n",
              "          dataTable['output_type'] = 'display_data';\n",
              "          await google.colab.output.renderOutput(dataTable, element);\n",
              "          const docLink = document.createElement('div');\n",
              "          docLink.innerHTML = docLinkHtml;\n",
              "          element.appendChild(docLink);\n",
              "        }\n",
              "      </script>\n",
              "    </div>\n",
              "  </div>\n",
              "  "
            ]
          },
          "metadata": {},
          "execution_count": 38
        }
      ]
    },
    {
      "cell_type": "code",
      "source": [
        "# split the data set into a positive and negative sentiment data set\n",
        "pos_mask = df.sentiment == 1\n",
        "neg_mask = df.sentiment == 0\n",
        "\n",
        "df_pos = df[pos_mask]\n",
        "df_neg = df[neg_mask]"
      ],
      "metadata": {
        "id": "r6WJfrfJI_0D"
      },
      "execution_count": 39,
      "outputs": []
    },
    {
      "cell_type": "code",
      "source": [
        "df_pos.head()"
      ],
      "metadata": {
        "colab": {
          "base_uri": "https://localhost:8080/",
          "height": 206
        },
        "id": "ugPxF7QtJXe3",
        "outputId": "fc6e93f8-5b05-4029-9d11-903e66993fb8"
      },
      "execution_count": 40,
      "outputs": [
        {
          "output_type": "execute_result",
          "data": {
            "text/plain": [
              "                  coffee_shop_name  \\\n",
              "0  The Factory - Cafe With a Soul    \n",
              "1  The Factory - Cafe With a Soul    \n",
              "2  The Factory - Cafe With a Soul    \n",
              "4  The Factory - Cafe With a Soul    \n",
              "5  The Factory - Cafe With a Soul    \n",
              "\n",
              "                                    full_review_text        star_rating  \\\n",
              "0     checkin love love loved the atmosphere ever...   5.0 star rating    \n",
              "1    listed in date night austin ambiance in aust...   4.0 star rating    \n",
              "2     checkin listed in brunch spots i loved the ...   4.0 star rating    \n",
              "4     checkin they are located within the northcr...   4.0 star rating    \n",
              "5     checkin very cute cafe i think from the mom...   4.0 star rating    \n",
              "\n",
              "                                              lemmas  sentiment  \n",
              "0  [checkin, love, love, love, atmosphere, corner...          1  \n",
              "1  [list, date, night, austin, ambiance, austin, ...          1  \n",
              "2  [checkin, list, brunch, spot, love, eclectic, ...          1  \n",
              "4  [checkin, locate, northcross, mall, shopping, ...          1  \n",
              "5  [checkin, cute, cafe, think, moment, step, not...          1  "
            ],
            "text/html": [
              "\n",
              "  <div id=\"df-87b85982-988d-44d3-8bb1-70c27441dc93\">\n",
              "    <div class=\"colab-df-container\">\n",
              "      <div>\n",
              "<style scoped>\n",
              "    .dataframe tbody tr th:only-of-type {\n",
              "        vertical-align: middle;\n",
              "    }\n",
              "\n",
              "    .dataframe tbody tr th {\n",
              "        vertical-align: top;\n",
              "    }\n",
              "\n",
              "    .dataframe thead th {\n",
              "        text-align: right;\n",
              "    }\n",
              "</style>\n",
              "<table border=\"1\" class=\"dataframe\">\n",
              "  <thead>\n",
              "    <tr style=\"text-align: right;\">\n",
              "      <th></th>\n",
              "      <th>coffee_shop_name</th>\n",
              "      <th>full_review_text</th>\n",
              "      <th>star_rating</th>\n",
              "      <th>lemmas</th>\n",
              "      <th>sentiment</th>\n",
              "    </tr>\n",
              "  </thead>\n",
              "  <tbody>\n",
              "    <tr>\n",
              "      <th>0</th>\n",
              "      <td>The Factory - Cafe With a Soul</td>\n",
              "      <td>checkin love love loved the atmosphere ever...</td>\n",
              "      <td>5.0 star rating</td>\n",
              "      <td>[checkin, love, love, love, atmosphere, corner...</td>\n",
              "      <td>1</td>\n",
              "    </tr>\n",
              "    <tr>\n",
              "      <th>1</th>\n",
              "      <td>The Factory - Cafe With a Soul</td>\n",
              "      <td>listed in date night austin ambiance in aust...</td>\n",
              "      <td>4.0 star rating</td>\n",
              "      <td>[list, date, night, austin, ambiance, austin, ...</td>\n",
              "      <td>1</td>\n",
              "    </tr>\n",
              "    <tr>\n",
              "      <th>2</th>\n",
              "      <td>The Factory - Cafe With a Soul</td>\n",
              "      <td>checkin listed in brunch spots i loved the ...</td>\n",
              "      <td>4.0 star rating</td>\n",
              "      <td>[checkin, list, brunch, spot, love, eclectic, ...</td>\n",
              "      <td>1</td>\n",
              "    </tr>\n",
              "    <tr>\n",
              "      <th>4</th>\n",
              "      <td>The Factory - Cafe With a Soul</td>\n",
              "      <td>checkin they are located within the northcr...</td>\n",
              "      <td>4.0 star rating</td>\n",
              "      <td>[checkin, locate, northcross, mall, shopping, ...</td>\n",
              "      <td>1</td>\n",
              "    </tr>\n",
              "    <tr>\n",
              "      <th>5</th>\n",
              "      <td>The Factory - Cafe With a Soul</td>\n",
              "      <td>checkin very cute cafe i think from the mom...</td>\n",
              "      <td>4.0 star rating</td>\n",
              "      <td>[checkin, cute, cafe, think, moment, step, not...</td>\n",
              "      <td>1</td>\n",
              "    </tr>\n",
              "  </tbody>\n",
              "</table>\n",
              "</div>\n",
              "      <button class=\"colab-df-convert\" onclick=\"convertToInteractive('df-87b85982-988d-44d3-8bb1-70c27441dc93')\"\n",
              "              title=\"Convert this dataframe to an interactive table.\"\n",
              "              style=\"display:none;\">\n",
              "        \n",
              "  <svg xmlns=\"http://www.w3.org/2000/svg\" height=\"24px\"viewBox=\"0 0 24 24\"\n",
              "       width=\"24px\">\n",
              "    <path d=\"M0 0h24v24H0V0z\" fill=\"none\"/>\n",
              "    <path d=\"M18.56 5.44l.94 2.06.94-2.06 2.06-.94-2.06-.94-.94-2.06-.94 2.06-2.06.94zm-11 1L8.5 8.5l.94-2.06 2.06-.94-2.06-.94L8.5 2.5l-.94 2.06-2.06.94zm10 10l.94 2.06.94-2.06 2.06-.94-2.06-.94-.94-2.06-.94 2.06-2.06.94z\"/><path d=\"M17.41 7.96l-1.37-1.37c-.4-.4-.92-.59-1.43-.59-.52 0-1.04.2-1.43.59L10.3 9.45l-7.72 7.72c-.78.78-.78 2.05 0 2.83L4 21.41c.39.39.9.59 1.41.59.51 0 1.02-.2 1.41-.59l7.78-7.78 2.81-2.81c.8-.78.8-2.07 0-2.86zM5.41 20L4 18.59l7.72-7.72 1.47 1.35L5.41 20z\"/>\n",
              "  </svg>\n",
              "      </button>\n",
              "      \n",
              "  <style>\n",
              "    .colab-df-container {\n",
              "      display:flex;\n",
              "      flex-wrap:wrap;\n",
              "      gap: 12px;\n",
              "    }\n",
              "\n",
              "    .colab-df-convert {\n",
              "      background-color: #E8F0FE;\n",
              "      border: none;\n",
              "      border-radius: 50%;\n",
              "      cursor: pointer;\n",
              "      display: none;\n",
              "      fill: #1967D2;\n",
              "      height: 32px;\n",
              "      padding: 0 0 0 0;\n",
              "      width: 32px;\n",
              "    }\n",
              "\n",
              "    .colab-df-convert:hover {\n",
              "      background-color: #E2EBFA;\n",
              "      box-shadow: 0px 1px 2px rgba(60, 64, 67, 0.3), 0px 1px 3px 1px rgba(60, 64, 67, 0.15);\n",
              "      fill: #174EA6;\n",
              "    }\n",
              "\n",
              "    [theme=dark] .colab-df-convert {\n",
              "      background-color: #3B4455;\n",
              "      fill: #D2E3FC;\n",
              "    }\n",
              "\n",
              "    [theme=dark] .colab-df-convert:hover {\n",
              "      background-color: #434B5C;\n",
              "      box-shadow: 0px 1px 3px 1px rgba(0, 0, 0, 0.15);\n",
              "      filter: drop-shadow(0px 1px 2px rgba(0, 0, 0, 0.3));\n",
              "      fill: #FFFFFF;\n",
              "    }\n",
              "  </style>\n",
              "\n",
              "      <script>\n",
              "        const buttonEl =\n",
              "          document.querySelector('#df-87b85982-988d-44d3-8bb1-70c27441dc93 button.colab-df-convert');\n",
              "        buttonEl.style.display =\n",
              "          google.colab.kernel.accessAllowed ? 'block' : 'none';\n",
              "\n",
              "        async function convertToInteractive(key) {\n",
              "          const element = document.querySelector('#df-87b85982-988d-44d3-8bb1-70c27441dc93');\n",
              "          const dataTable =\n",
              "            await google.colab.kernel.invokeFunction('convertToInteractive',\n",
              "                                                     [key], {});\n",
              "          if (!dataTable) return;\n",
              "\n",
              "          const docLinkHtml = 'Like what you see? Visit the ' +\n",
              "            '<a target=\"_blank\" href=https://colab.research.google.com/notebooks/data_table.ipynb>data table notebook</a>'\n",
              "            + ' to learn more about interactive tables.';\n",
              "          element.innerHTML = '';\n",
              "          dataTable['output_type'] = 'display_data';\n",
              "          await google.colab.output.renderOutput(dataTable, element);\n",
              "          const docLink = document.createElement('div');\n",
              "          docLink.innerHTML = docLinkHtml;\n",
              "          element.appendChild(docLink);\n",
              "        }\n",
              "      </script>\n",
              "    </div>\n",
              "  </div>\n",
              "  "
            ]
          },
          "metadata": {},
          "execution_count": 40
        }
      ]
    },
    {
      "cell_type": "code",
      "source": [
        "df_neg.head()"
      ],
      "metadata": {
        "colab": {
          "base_uri": "https://localhost:8080/",
          "height": 206
        },
        "id": "4n4rCE9lJeaW",
        "outputId": "db38ad45-2305-45ee-adaa-481730c6d448"
      },
      "execution_count": 41,
      "outputs": [
        {
          "output_type": "execute_result",
          "data": {
            "text/plain": [
              "                   coffee_shop_name  \\\n",
              "3   The Factory - Cafe With a Soul    \n",
              "8   The Factory - Cafe With a Soul    \n",
              "11  The Factory - Cafe With a Soul    \n",
              "12  The Factory - Cafe With a Soul    \n",
              "25  The Factory - Cafe With a Soul    \n",
              "\n",
              "                                     full_review_text        star_rating  \\\n",
              "3     very cool decor good drinks nice seating  ho...   2.0 star rating    \n",
              "8      checkin ok lets try this approach  pros mus...   3.0 star rating    \n",
              "11    the store has a decoration but honestly the ...   3.0 star rating    \n",
              "12     checkin listed in   the third time is a cha...   3.0 star rating    \n",
              "25    okay so after visiting my friends in la and ...   1.0 star rating    \n",
              "\n",
              "                                               lemmas  sentiment  \n",
              "3   [cool, decor, good, drink, nice, seating, over...          0  \n",
              "8   [checkin, ok, lets, try, approach, pro, music,...          0  \n",
              "11  [store, decoration, honestly, coffee, good, co...          0  \n",
              "12  [checkin, list, time, charm, factory, decor, i...          0  \n",
              "25  [okay, visit, friend, la, try, mint, mojito, i...          0  "
            ],
            "text/html": [
              "\n",
              "  <div id=\"df-e68789d7-36a9-419a-a3dd-9c7f488c2529\">\n",
              "    <div class=\"colab-df-container\">\n",
              "      <div>\n",
              "<style scoped>\n",
              "    .dataframe tbody tr th:only-of-type {\n",
              "        vertical-align: middle;\n",
              "    }\n",
              "\n",
              "    .dataframe tbody tr th {\n",
              "        vertical-align: top;\n",
              "    }\n",
              "\n",
              "    .dataframe thead th {\n",
              "        text-align: right;\n",
              "    }\n",
              "</style>\n",
              "<table border=\"1\" class=\"dataframe\">\n",
              "  <thead>\n",
              "    <tr style=\"text-align: right;\">\n",
              "      <th></th>\n",
              "      <th>coffee_shop_name</th>\n",
              "      <th>full_review_text</th>\n",
              "      <th>star_rating</th>\n",
              "      <th>lemmas</th>\n",
              "      <th>sentiment</th>\n",
              "    </tr>\n",
              "  </thead>\n",
              "  <tbody>\n",
              "    <tr>\n",
              "      <th>3</th>\n",
              "      <td>The Factory - Cafe With a Soul</td>\n",
              "      <td>very cool decor good drinks nice seating  ho...</td>\n",
              "      <td>2.0 star rating</td>\n",
              "      <td>[cool, decor, good, drink, nice, seating, over...</td>\n",
              "      <td>0</td>\n",
              "    </tr>\n",
              "    <tr>\n",
              "      <th>8</th>\n",
              "      <td>The Factory - Cafe With a Soul</td>\n",
              "      <td>checkin ok lets try this approach  pros mus...</td>\n",
              "      <td>3.0 star rating</td>\n",
              "      <td>[checkin, ok, lets, try, approach, pro, music,...</td>\n",
              "      <td>0</td>\n",
              "    </tr>\n",
              "    <tr>\n",
              "      <th>11</th>\n",
              "      <td>The Factory - Cafe With a Soul</td>\n",
              "      <td>the store has a decoration but honestly the ...</td>\n",
              "      <td>3.0 star rating</td>\n",
              "      <td>[store, decoration, honestly, coffee, good, co...</td>\n",
              "      <td>0</td>\n",
              "    </tr>\n",
              "    <tr>\n",
              "      <th>12</th>\n",
              "      <td>The Factory - Cafe With a Soul</td>\n",
              "      <td>checkin listed in   the third time is a cha...</td>\n",
              "      <td>3.0 star rating</td>\n",
              "      <td>[checkin, list, time, charm, factory, decor, i...</td>\n",
              "      <td>0</td>\n",
              "    </tr>\n",
              "    <tr>\n",
              "      <th>25</th>\n",
              "      <td>The Factory - Cafe With a Soul</td>\n",
              "      <td>okay so after visiting my friends in la and ...</td>\n",
              "      <td>1.0 star rating</td>\n",
              "      <td>[okay, visit, friend, la, try, mint, mojito, i...</td>\n",
              "      <td>0</td>\n",
              "    </tr>\n",
              "  </tbody>\n",
              "</table>\n",
              "</div>\n",
              "      <button class=\"colab-df-convert\" onclick=\"convertToInteractive('df-e68789d7-36a9-419a-a3dd-9c7f488c2529')\"\n",
              "              title=\"Convert this dataframe to an interactive table.\"\n",
              "              style=\"display:none;\">\n",
              "        \n",
              "  <svg xmlns=\"http://www.w3.org/2000/svg\" height=\"24px\"viewBox=\"0 0 24 24\"\n",
              "       width=\"24px\">\n",
              "    <path d=\"M0 0h24v24H0V0z\" fill=\"none\"/>\n",
              "    <path d=\"M18.56 5.44l.94 2.06.94-2.06 2.06-.94-2.06-.94-.94-2.06-.94 2.06-2.06.94zm-11 1L8.5 8.5l.94-2.06 2.06-.94-2.06-.94L8.5 2.5l-.94 2.06-2.06.94zm10 10l.94 2.06.94-2.06 2.06-.94-2.06-.94-.94-2.06-.94 2.06-2.06.94z\"/><path d=\"M17.41 7.96l-1.37-1.37c-.4-.4-.92-.59-1.43-.59-.52 0-1.04.2-1.43.59L10.3 9.45l-7.72 7.72c-.78.78-.78 2.05 0 2.83L4 21.41c.39.39.9.59 1.41.59.51 0 1.02-.2 1.41-.59l7.78-7.78 2.81-2.81c.8-.78.8-2.07 0-2.86zM5.41 20L4 18.59l7.72-7.72 1.47 1.35L5.41 20z\"/>\n",
              "  </svg>\n",
              "      </button>\n",
              "      \n",
              "  <style>\n",
              "    .colab-df-container {\n",
              "      display:flex;\n",
              "      flex-wrap:wrap;\n",
              "      gap: 12px;\n",
              "    }\n",
              "\n",
              "    .colab-df-convert {\n",
              "      background-color: #E8F0FE;\n",
              "      border: none;\n",
              "      border-radius: 50%;\n",
              "      cursor: pointer;\n",
              "      display: none;\n",
              "      fill: #1967D2;\n",
              "      height: 32px;\n",
              "      padding: 0 0 0 0;\n",
              "      width: 32px;\n",
              "    }\n",
              "\n",
              "    .colab-df-convert:hover {\n",
              "      background-color: #E2EBFA;\n",
              "      box-shadow: 0px 1px 2px rgba(60, 64, 67, 0.3), 0px 1px 3px 1px rgba(60, 64, 67, 0.15);\n",
              "      fill: #174EA6;\n",
              "    }\n",
              "\n",
              "    [theme=dark] .colab-df-convert {\n",
              "      background-color: #3B4455;\n",
              "      fill: #D2E3FC;\n",
              "    }\n",
              "\n",
              "    [theme=dark] .colab-df-convert:hover {\n",
              "      background-color: #434B5C;\n",
              "      box-shadow: 0px 1px 3px 1px rgba(0, 0, 0, 0.15);\n",
              "      filter: drop-shadow(0px 1px 2px rgba(0, 0, 0, 0.3));\n",
              "      fill: #FFFFFF;\n",
              "    }\n",
              "  </style>\n",
              "\n",
              "      <script>\n",
              "        const buttonEl =\n",
              "          document.querySelector('#df-e68789d7-36a9-419a-a3dd-9c7f488c2529 button.colab-df-convert');\n",
              "        buttonEl.style.display =\n",
              "          google.colab.kernel.accessAllowed ? 'block' : 'none';\n",
              "\n",
              "        async function convertToInteractive(key) {\n",
              "          const element = document.querySelector('#df-e68789d7-36a9-419a-a3dd-9c7f488c2529');\n",
              "          const dataTable =\n",
              "            await google.colab.kernel.invokeFunction('convertToInteractive',\n",
              "                                                     [key], {});\n",
              "          if (!dataTable) return;\n",
              "\n",
              "          const docLinkHtml = 'Like what you see? Visit the ' +\n",
              "            '<a target=\"_blank\" href=https://colab.research.google.com/notebooks/data_table.ipynb>data table notebook</a>'\n",
              "            + ' to learn more about interactive tables.';\n",
              "          element.innerHTML = '';\n",
              "          dataTable['output_type'] = 'display_data';\n",
              "          await google.colab.output.renderOutput(dataTable, element);\n",
              "          const docLink = document.createElement('div');\n",
              "          docLink.innerHTML = docLinkHtml;\n",
              "          element.appendChild(docLink);\n",
              "        }\n",
              "      </script>\n",
              "    </div>\n",
              "  </div>\n",
              "  "
            ]
          },
          "metadata": {},
          "execution_count": 41
        }
      ]
    },
    {
      "cell_type": "markdown",
      "source": [
        "We can see from the .head() that the data seems to have been correctly split into a positive and negative sentiment sets but let's run a sanity check on our results."
      ],
      "metadata": {
        "id": "STcyLBQiJuyX"
      }
    },
    {
      "cell_type": "code",
      "source": [
        "# no error will print out if all values in the sentiment column are 1\n",
        "assert df_pos.sentiment.all() == True"
      ],
      "metadata": {
        "id": "c0NF1JPAKBk-"
      },
      "execution_count": 42,
      "outputs": []
    },
    {
      "cell_type": "code",
      "source": [
        "# no error will print out if there are no 1's in the sentiment column \n",
        "# (i.e. if there are all zeros)\n",
        "assert df_neg.sentiment.any() == False"
      ],
      "metadata": {
        "id": "Kix_1RtcKM6x"
      },
      "execution_count": 43,
      "outputs": []
    },
    {
      "cell_type": "code",
      "source": [
        "N_pos_reviews = df_pos.shape[0]\n",
        "N_neg_reviews = df_neg.shape[0]\n",
        "N_total_reviews = df.shape[0]\n",
        "\n",
        "N_pos_reviews/ N_total_reviews * 100, N_neg_reviews/ N_total_reviews * 100"
      ],
      "metadata": {
        "colab": {
          "base_uri": "https://localhost:8080/"
        },
        "id": "kw9gyBbJKfhd",
        "outputId": "3eeb0138-eb61-47b6-cd25-7d5d35bdab43"
      },
      "execution_count": 44,
      "outputs": [
        {
          "output_type": "execute_result",
          "data": {
            "text/plain": [
              "(80.61974789915966, 19.380252100840337)"
            ]
          },
          "metadata": {},
          "execution_count": 44
        }
      ]
    },
    {
      "cell_type": "markdown",
      "source": [
        "**Observations**\n",
        "\n",
        "- 80% of reviews are positive\n",
        "- 20% of reviews are negative\n",
        "- We have a highly unbalanced data set (with respect to the sentiment column)\n",
        "  - If we were building a ML model for sentiments analysis, we would have to address the label imbalance\n"
      ],
      "metadata": {
        "id": "1vzsqQxWK_6G"
      }
    },
    {
      "cell_type": "markdown",
      "source": [
        "**2. Re-apply the count function on each split**"
      ],
      "metadata": {
        "id": "8-UoteHZMzEh"
      }
    },
    {
      "cell_type": "code",
      "source": [
        "df_pos_wc = count(df_pos.lemmas)\n",
        "df_neg_wc = count(df_neg.lemmas)"
      ],
      "metadata": {
        "id": "n7XTl3ORM2oG"
      },
      "execution_count": 45,
      "outputs": []
    },
    {
      "cell_type": "markdown",
      "source": [
        "**3. Sort through the results and make some observations**"
      ],
      "metadata": {
        "id": "9B6VilRrND3t"
      }
    },
    {
      "cell_type": "code",
      "source": [
        "df_pos_wc.head(10)"
      ],
      "metadata": {
        "colab": {
          "base_uri": "https://localhost:8080/",
          "height": 362
        },
        "id": "VLLrPzPmNIv0",
        "outputId": "7964228f-bce7-475c-ba4a-6b906941c706"
      },
      "execution_count": 47,
      "outputs": [
        {
          "output_type": "execute_result",
          "data": {
            "text/plain": [
              "        word  appears_in  count  rank  pct_total  cul_pct_total  \\\n",
              "29    coffee        3975   8421   1.0   2.997885       2.997885   \n",
              "110    place        3133   4816   2.0   1.714501       4.712387   \n",
              "188     good        2946   4388   3.0   1.562133       6.274520   \n",
              "98     great        2505   3474   4.0   1.236748       7.511267   \n",
              "116      not        2187   3469   5.0   1.234968       8.746235   \n",
              "4    checkin        2512   2525   6.0   0.898903       9.645138   \n",
              "185     like        1669   2415   7.0   0.859743      10.504881   \n",
              "38      love        1608   2120   8.0   0.754722      11.259603   \n",
              "57    austin        1570   2012   9.0   0.716274      11.975877   \n",
              "366     come        1482   1984  10.0   0.706306      12.682184   \n",
              "\n",
              "     appears_in_pct  \n",
              "29        64.739414  \n",
              "110       51.026059  \n",
              "188       47.980456  \n",
              "98        40.798046  \n",
              "116       35.618893  \n",
              "4         40.912052  \n",
              "185       27.182410  \n",
              "38        26.188925  \n",
              "57        25.570033  \n",
              "366       24.136808  "
            ],
            "text/html": [
              "\n",
              "  <div id=\"df-d8a929c4-c105-473f-886a-9ba94dd8e219\">\n",
              "    <div class=\"colab-df-container\">\n",
              "      <div>\n",
              "<style scoped>\n",
              "    .dataframe tbody tr th:only-of-type {\n",
              "        vertical-align: middle;\n",
              "    }\n",
              "\n",
              "    .dataframe tbody tr th {\n",
              "        vertical-align: top;\n",
              "    }\n",
              "\n",
              "    .dataframe thead th {\n",
              "        text-align: right;\n",
              "    }\n",
              "</style>\n",
              "<table border=\"1\" class=\"dataframe\">\n",
              "  <thead>\n",
              "    <tr style=\"text-align: right;\">\n",
              "      <th></th>\n",
              "      <th>word</th>\n",
              "      <th>appears_in</th>\n",
              "      <th>count</th>\n",
              "      <th>rank</th>\n",
              "      <th>pct_total</th>\n",
              "      <th>cul_pct_total</th>\n",
              "      <th>appears_in_pct</th>\n",
              "    </tr>\n",
              "  </thead>\n",
              "  <tbody>\n",
              "    <tr>\n",
              "      <th>29</th>\n",
              "      <td>coffee</td>\n",
              "      <td>3975</td>\n",
              "      <td>8421</td>\n",
              "      <td>1.0</td>\n",
              "      <td>2.997885</td>\n",
              "      <td>2.997885</td>\n",
              "      <td>64.739414</td>\n",
              "    </tr>\n",
              "    <tr>\n",
              "      <th>110</th>\n",
              "      <td>place</td>\n",
              "      <td>3133</td>\n",
              "      <td>4816</td>\n",
              "      <td>2.0</td>\n",
              "      <td>1.714501</td>\n",
              "      <td>4.712387</td>\n",
              "      <td>51.026059</td>\n",
              "    </tr>\n",
              "    <tr>\n",
              "      <th>188</th>\n",
              "      <td>good</td>\n",
              "      <td>2946</td>\n",
              "      <td>4388</td>\n",
              "      <td>3.0</td>\n",
              "      <td>1.562133</td>\n",
              "      <td>6.274520</td>\n",
              "      <td>47.980456</td>\n",
              "    </tr>\n",
              "    <tr>\n",
              "      <th>98</th>\n",
              "      <td>great</td>\n",
              "      <td>2505</td>\n",
              "      <td>3474</td>\n",
              "      <td>4.0</td>\n",
              "      <td>1.236748</td>\n",
              "      <td>7.511267</td>\n",
              "      <td>40.798046</td>\n",
              "    </tr>\n",
              "    <tr>\n",
              "      <th>116</th>\n",
              "      <td>not</td>\n",
              "      <td>2187</td>\n",
              "      <td>3469</td>\n",
              "      <td>5.0</td>\n",
              "      <td>1.234968</td>\n",
              "      <td>8.746235</td>\n",
              "      <td>35.618893</td>\n",
              "    </tr>\n",
              "    <tr>\n",
              "      <th>4</th>\n",
              "      <td>checkin</td>\n",
              "      <td>2512</td>\n",
              "      <td>2525</td>\n",
              "      <td>6.0</td>\n",
              "      <td>0.898903</td>\n",
              "      <td>9.645138</td>\n",
              "      <td>40.912052</td>\n",
              "    </tr>\n",
              "    <tr>\n",
              "      <th>185</th>\n",
              "      <td>like</td>\n",
              "      <td>1669</td>\n",
              "      <td>2415</td>\n",
              "      <td>7.0</td>\n",
              "      <td>0.859743</td>\n",
              "      <td>10.504881</td>\n",
              "      <td>27.182410</td>\n",
              "    </tr>\n",
              "    <tr>\n",
              "      <th>38</th>\n",
              "      <td>love</td>\n",
              "      <td>1608</td>\n",
              "      <td>2120</td>\n",
              "      <td>8.0</td>\n",
              "      <td>0.754722</td>\n",
              "      <td>11.259603</td>\n",
              "      <td>26.188925</td>\n",
              "    </tr>\n",
              "    <tr>\n",
              "      <th>57</th>\n",
              "      <td>austin</td>\n",
              "      <td>1570</td>\n",
              "      <td>2012</td>\n",
              "      <td>9.0</td>\n",
              "      <td>0.716274</td>\n",
              "      <td>11.975877</td>\n",
              "      <td>25.570033</td>\n",
              "    </tr>\n",
              "    <tr>\n",
              "      <th>366</th>\n",
              "      <td>come</td>\n",
              "      <td>1482</td>\n",
              "      <td>1984</td>\n",
              "      <td>10.0</td>\n",
              "      <td>0.706306</td>\n",
              "      <td>12.682184</td>\n",
              "      <td>24.136808</td>\n",
              "    </tr>\n",
              "  </tbody>\n",
              "</table>\n",
              "</div>\n",
              "      <button class=\"colab-df-convert\" onclick=\"convertToInteractive('df-d8a929c4-c105-473f-886a-9ba94dd8e219')\"\n",
              "              title=\"Convert this dataframe to an interactive table.\"\n",
              "              style=\"display:none;\">\n",
              "        \n",
              "  <svg xmlns=\"http://www.w3.org/2000/svg\" height=\"24px\"viewBox=\"0 0 24 24\"\n",
              "       width=\"24px\">\n",
              "    <path d=\"M0 0h24v24H0V0z\" fill=\"none\"/>\n",
              "    <path d=\"M18.56 5.44l.94 2.06.94-2.06 2.06-.94-2.06-.94-.94-2.06-.94 2.06-2.06.94zm-11 1L8.5 8.5l.94-2.06 2.06-.94-2.06-.94L8.5 2.5l-.94 2.06-2.06.94zm10 10l.94 2.06.94-2.06 2.06-.94-2.06-.94-.94-2.06-.94 2.06-2.06.94z\"/><path d=\"M17.41 7.96l-1.37-1.37c-.4-.4-.92-.59-1.43-.59-.52 0-1.04.2-1.43.59L10.3 9.45l-7.72 7.72c-.78.78-.78 2.05 0 2.83L4 21.41c.39.39.9.59 1.41.59.51 0 1.02-.2 1.41-.59l7.78-7.78 2.81-2.81c.8-.78.8-2.07 0-2.86zM5.41 20L4 18.59l7.72-7.72 1.47 1.35L5.41 20z\"/>\n",
              "  </svg>\n",
              "      </button>\n",
              "      \n",
              "  <style>\n",
              "    .colab-df-container {\n",
              "      display:flex;\n",
              "      flex-wrap:wrap;\n",
              "      gap: 12px;\n",
              "    }\n",
              "\n",
              "    .colab-df-convert {\n",
              "      background-color: #E8F0FE;\n",
              "      border: none;\n",
              "      border-radius: 50%;\n",
              "      cursor: pointer;\n",
              "      display: none;\n",
              "      fill: #1967D2;\n",
              "      height: 32px;\n",
              "      padding: 0 0 0 0;\n",
              "      width: 32px;\n",
              "    }\n",
              "\n",
              "    .colab-df-convert:hover {\n",
              "      background-color: #E2EBFA;\n",
              "      box-shadow: 0px 1px 2px rgba(60, 64, 67, 0.3), 0px 1px 3px 1px rgba(60, 64, 67, 0.15);\n",
              "      fill: #174EA6;\n",
              "    }\n",
              "\n",
              "    [theme=dark] .colab-df-convert {\n",
              "      background-color: #3B4455;\n",
              "      fill: #D2E3FC;\n",
              "    }\n",
              "\n",
              "    [theme=dark] .colab-df-convert:hover {\n",
              "      background-color: #434B5C;\n",
              "      box-shadow: 0px 1px 3px 1px rgba(0, 0, 0, 0.15);\n",
              "      filter: drop-shadow(0px 1px 2px rgba(0, 0, 0, 0.3));\n",
              "      fill: #FFFFFF;\n",
              "    }\n",
              "  </style>\n",
              "\n",
              "      <script>\n",
              "        const buttonEl =\n",
              "          document.querySelector('#df-d8a929c4-c105-473f-886a-9ba94dd8e219 button.colab-df-convert');\n",
              "        buttonEl.style.display =\n",
              "          google.colab.kernel.accessAllowed ? 'block' : 'none';\n",
              "\n",
              "        async function convertToInteractive(key) {\n",
              "          const element = document.querySelector('#df-d8a929c4-c105-473f-886a-9ba94dd8e219');\n",
              "          const dataTable =\n",
              "            await google.colab.kernel.invokeFunction('convertToInteractive',\n",
              "                                                     [key], {});\n",
              "          if (!dataTable) return;\n",
              "\n",
              "          const docLinkHtml = 'Like what you see? Visit the ' +\n",
              "            '<a target=\"_blank\" href=https://colab.research.google.com/notebooks/data_table.ipynb>data table notebook</a>'\n",
              "            + ' to learn more about interactive tables.';\n",
              "          element.innerHTML = '';\n",
              "          dataTable['output_type'] = 'display_data';\n",
              "          await google.colab.output.renderOutput(dataTable, element);\n",
              "          const docLink = document.createElement('div');\n",
              "          docLink.innerHTML = docLinkHtml;\n",
              "          element.appendChild(docLink);\n",
              "        }\n",
              "      </script>\n",
              "    </div>\n",
              "  </div>\n",
              "  "
            ]
          },
          "metadata": {},
          "execution_count": 47
        }
      ]
    },
    {
      "cell_type": "code",
      "source": [
        "df_neg_wc.head(10)"
      ],
      "metadata": {
        "colab": {
          "base_uri": "https://localhost:8080/",
          "height": 362
        },
        "id": "FcbXqICTNW_c",
        "outputId": "10616666-d730-40a1-f5ff-2745851fcf77"
      },
      "execution_count": 48,
      "outputs": [
        {
          "output_type": "execute_result",
          "data": {
            "text/plain": [
              "       word  appears_in  count  rank  pct_total  cul_pct_total  appears_in_pct\n",
              "32   coffee         948   2172   1.0   2.744920       2.744920       64.227642\n",
              "108     not         868   1706   2.0   2.156000       4.900920       58.807588\n",
              "11    place         755   1228   3.0   1.551916       6.452836       51.151762\n",
              "28     good         650   1004   4.0   1.268830       7.721666       44.037940\n",
              "22     like         592    936   5.0   1.182894       8.904560       40.108401\n",
              "116   order         439    765   6.0   0.966788       9.871348       29.742547\n",
              "147    come         452    650   7.0   0.821454      10.692802       30.623306\n",
              "204    time         420    611   8.0   0.772167      11.464968       28.455285\n",
              "24    drink         362    607   9.0   0.767112      12.232080       24.525745\n",
              "143    food         316    494  10.0   0.624305      12.856385       21.409214"
            ],
            "text/html": [
              "\n",
              "  <div id=\"df-c7af03c9-2852-4793-b307-d8008175e604\">\n",
              "    <div class=\"colab-df-container\">\n",
              "      <div>\n",
              "<style scoped>\n",
              "    .dataframe tbody tr th:only-of-type {\n",
              "        vertical-align: middle;\n",
              "    }\n",
              "\n",
              "    .dataframe tbody tr th {\n",
              "        vertical-align: top;\n",
              "    }\n",
              "\n",
              "    .dataframe thead th {\n",
              "        text-align: right;\n",
              "    }\n",
              "</style>\n",
              "<table border=\"1\" class=\"dataframe\">\n",
              "  <thead>\n",
              "    <tr style=\"text-align: right;\">\n",
              "      <th></th>\n",
              "      <th>word</th>\n",
              "      <th>appears_in</th>\n",
              "      <th>count</th>\n",
              "      <th>rank</th>\n",
              "      <th>pct_total</th>\n",
              "      <th>cul_pct_total</th>\n",
              "      <th>appears_in_pct</th>\n",
              "    </tr>\n",
              "  </thead>\n",
              "  <tbody>\n",
              "    <tr>\n",
              "      <th>32</th>\n",
              "      <td>coffee</td>\n",
              "      <td>948</td>\n",
              "      <td>2172</td>\n",
              "      <td>1.0</td>\n",
              "      <td>2.744920</td>\n",
              "      <td>2.744920</td>\n",
              "      <td>64.227642</td>\n",
              "    </tr>\n",
              "    <tr>\n",
              "      <th>108</th>\n",
              "      <td>not</td>\n",
              "      <td>868</td>\n",
              "      <td>1706</td>\n",
              "      <td>2.0</td>\n",
              "      <td>2.156000</td>\n",
              "      <td>4.900920</td>\n",
              "      <td>58.807588</td>\n",
              "    </tr>\n",
              "    <tr>\n",
              "      <th>11</th>\n",
              "      <td>place</td>\n",
              "      <td>755</td>\n",
              "      <td>1228</td>\n",
              "      <td>3.0</td>\n",
              "      <td>1.551916</td>\n",
              "      <td>6.452836</td>\n",
              "      <td>51.151762</td>\n",
              "    </tr>\n",
              "    <tr>\n",
              "      <th>28</th>\n",
              "      <td>good</td>\n",
              "      <td>650</td>\n",
              "      <td>1004</td>\n",
              "      <td>4.0</td>\n",
              "      <td>1.268830</td>\n",
              "      <td>7.721666</td>\n",
              "      <td>44.037940</td>\n",
              "    </tr>\n",
              "    <tr>\n",
              "      <th>22</th>\n",
              "      <td>like</td>\n",
              "      <td>592</td>\n",
              "      <td>936</td>\n",
              "      <td>5.0</td>\n",
              "      <td>1.182894</td>\n",
              "      <td>8.904560</td>\n",
              "      <td>40.108401</td>\n",
              "    </tr>\n",
              "    <tr>\n",
              "      <th>116</th>\n",
              "      <td>order</td>\n",
              "      <td>439</td>\n",
              "      <td>765</td>\n",
              "      <td>6.0</td>\n",
              "      <td>0.966788</td>\n",
              "      <td>9.871348</td>\n",
              "      <td>29.742547</td>\n",
              "    </tr>\n",
              "    <tr>\n",
              "      <th>147</th>\n",
              "      <td>come</td>\n",
              "      <td>452</td>\n",
              "      <td>650</td>\n",
              "      <td>7.0</td>\n",
              "      <td>0.821454</td>\n",
              "      <td>10.692802</td>\n",
              "      <td>30.623306</td>\n",
              "    </tr>\n",
              "    <tr>\n",
              "      <th>204</th>\n",
              "      <td>time</td>\n",
              "      <td>420</td>\n",
              "      <td>611</td>\n",
              "      <td>8.0</td>\n",
              "      <td>0.772167</td>\n",
              "      <td>11.464968</td>\n",
              "      <td>28.455285</td>\n",
              "    </tr>\n",
              "    <tr>\n",
              "      <th>24</th>\n",
              "      <td>drink</td>\n",
              "      <td>362</td>\n",
              "      <td>607</td>\n",
              "      <td>9.0</td>\n",
              "      <td>0.767112</td>\n",
              "      <td>12.232080</td>\n",
              "      <td>24.525745</td>\n",
              "    </tr>\n",
              "    <tr>\n",
              "      <th>143</th>\n",
              "      <td>food</td>\n",
              "      <td>316</td>\n",
              "      <td>494</td>\n",
              "      <td>10.0</td>\n",
              "      <td>0.624305</td>\n",
              "      <td>12.856385</td>\n",
              "      <td>21.409214</td>\n",
              "    </tr>\n",
              "  </tbody>\n",
              "</table>\n",
              "</div>\n",
              "      <button class=\"colab-df-convert\" onclick=\"convertToInteractive('df-c7af03c9-2852-4793-b307-d8008175e604')\"\n",
              "              title=\"Convert this dataframe to an interactive table.\"\n",
              "              style=\"display:none;\">\n",
              "        \n",
              "  <svg xmlns=\"http://www.w3.org/2000/svg\" height=\"24px\"viewBox=\"0 0 24 24\"\n",
              "       width=\"24px\">\n",
              "    <path d=\"M0 0h24v24H0V0z\" fill=\"none\"/>\n",
              "    <path d=\"M18.56 5.44l.94 2.06.94-2.06 2.06-.94-2.06-.94-.94-2.06-.94 2.06-2.06.94zm-11 1L8.5 8.5l.94-2.06 2.06-.94-2.06-.94L8.5 2.5l-.94 2.06-2.06.94zm10 10l.94 2.06.94-2.06 2.06-.94-2.06-.94-.94-2.06-.94 2.06-2.06.94z\"/><path d=\"M17.41 7.96l-1.37-1.37c-.4-.4-.92-.59-1.43-.59-.52 0-1.04.2-1.43.59L10.3 9.45l-7.72 7.72c-.78.78-.78 2.05 0 2.83L4 21.41c.39.39.9.59 1.41.59.51 0 1.02-.2 1.41-.59l7.78-7.78 2.81-2.81c.8-.78.8-2.07 0-2.86zM5.41 20L4 18.59l7.72-7.72 1.47 1.35L5.41 20z\"/>\n",
              "  </svg>\n",
              "      </button>\n",
              "      \n",
              "  <style>\n",
              "    .colab-df-container {\n",
              "      display:flex;\n",
              "      flex-wrap:wrap;\n",
              "      gap: 12px;\n",
              "    }\n",
              "\n",
              "    .colab-df-convert {\n",
              "      background-color: #E8F0FE;\n",
              "      border: none;\n",
              "      border-radius: 50%;\n",
              "      cursor: pointer;\n",
              "      display: none;\n",
              "      fill: #1967D2;\n",
              "      height: 32px;\n",
              "      padding: 0 0 0 0;\n",
              "      width: 32px;\n",
              "    }\n",
              "\n",
              "    .colab-df-convert:hover {\n",
              "      background-color: #E2EBFA;\n",
              "      box-shadow: 0px 1px 2px rgba(60, 64, 67, 0.3), 0px 1px 3px 1px rgba(60, 64, 67, 0.15);\n",
              "      fill: #174EA6;\n",
              "    }\n",
              "\n",
              "    [theme=dark] .colab-df-convert {\n",
              "      background-color: #3B4455;\n",
              "      fill: #D2E3FC;\n",
              "    }\n",
              "\n",
              "    [theme=dark] .colab-df-convert:hover {\n",
              "      background-color: #434B5C;\n",
              "      box-shadow: 0px 1px 3px 1px rgba(0, 0, 0, 0.15);\n",
              "      filter: drop-shadow(0px 1px 2px rgba(0, 0, 0, 0.3));\n",
              "      fill: #FFFFFF;\n",
              "    }\n",
              "  </style>\n",
              "\n",
              "      <script>\n",
              "        const buttonEl =\n",
              "          document.querySelector('#df-c7af03c9-2852-4793-b307-d8008175e604 button.colab-df-convert');\n",
              "        buttonEl.style.display =\n",
              "          google.colab.kernel.accessAllowed ? 'block' : 'none';\n",
              "\n",
              "        async function convertToInteractive(key) {\n",
              "          const element = document.querySelector('#df-c7af03c9-2852-4793-b307-d8008175e604');\n",
              "          const dataTable =\n",
              "            await google.colab.kernel.invokeFunction('convertToInteractive',\n",
              "                                                     [key], {});\n",
              "          if (!dataTable) return;\n",
              "\n",
              "          const docLinkHtml = 'Like what you see? Visit the ' +\n",
              "            '<a target=\"_blank\" href=https://colab.research.google.com/notebooks/data_table.ipynb>data table notebook</a>'\n",
              "            + ' to learn more about interactive tables.';\n",
              "          element.innerHTML = '';\n",
              "          dataTable['output_type'] = 'display_data';\n",
              "          await google.colab.output.renderOutput(dataTable, element);\n",
              "          const docLink = document.createElement('div');\n",
              "          docLink.innerHTML = docLinkHtml;\n",
              "          element.appendChild(docLink);\n",
              "        }\n",
              "      </script>\n",
              "    </div>\n",
              "  </div>\n",
              "  "
            ]
          },
          "metadata": {},
          "execution_count": 48
        }
      ]
    },
    {
      "cell_type": "code",
      "source": [
        "top_N_tokens = 20\n",
        "\n",
        "wc_top20 = df_pos_wc[df_pos_wc['rank'] <= top_N_tokens] \n",
        "\n",
        "plt.figure(figsize=(10,7))\n",
        "squarify.plot(sizes=wc_top20['pct_total'], label=wc_top20['word'], alpha=.8 )\n",
        "plt.axis('off')\n",
        "plt.title('Positive Reviews')\n",
        "plt.show()\n",
        "\n",
        "wc_top20 = df_neg_wc[df_neg_wc['rank'] <= top_N_tokens] \n",
        "\n",
        "plt.figure(figsize=(10,7))\n",
        "squarify.plot(sizes=wc_top20['pct_total'], label=wc_top20['word'], alpha=.8 )\n",
        "plt.axis('off')\n",
        "plt.title('Negative Reviews')\n",
        "plt.show()"
      ],
      "metadata": {
        "colab": {
          "base_uri": "https://localhost:8080/",
          "height": 837
        },
        "id": "IignnRg1Nax5",
        "outputId": "1e6374dd-c330-4d06-8e7b-d6b7ee8b14bb"
      },
      "execution_count": 50,
      "outputs": [
        {
          "output_type": "display_data",
          "data": {
            "text/plain": [
              "<Figure size 720x504 with 1 Axes>"
            ],
            "image/png": "[encoded data removed]"
          },
          "metadata": {
            "needs_background": "light"
          }
        },
        {
          "output_type": "display_data",
          "data": {
            "text/plain": [
              "<Figure size 720x504 with 1 Axes>"
            ],
            "image/png": "[encoded data removed]"
          },
          "metadata": {
            "needs_background": "light"
          }
        }
      ]
    },
    {
      "cell_type": "markdown",
      "source": [
        "A couple of observations is that **coffee** is the most common token in both data sets, though unsurprising. It might be a good idea to include coffee in the stop word set, since we know we are looking at coffee reviews a word like 'coffee' is expected to show up in most if not all reviews and so it doesn't really tell us much. A second observation is the appereance of the word **not**.\n",
        "\n",
        "`\"Not\" appears in 58.8% of negative reviews and appears in 35.6% of positive reviews - that's a 23% difference!`\n",
        "\n",
        "Is there a meaningful significance to that observation?\n",
        "\n",
        "Maybe not appears more in negative reviews as an indication of negative sentiment, \"Not great coffee\", \"this coffee is not cheap\", \"would not recommend...\"\n",
        "\n",
        "Let's use out `print_out_N_reviews` function to print out a few areviews from both data sets.\n",
        "\n"
      ],
      "metadata": {
        "id": "BkkzIzS5Om9F"
      }
    },
    {
      "cell_type": "code",
      "source": [
        "# an ad-hoc analysis shows that \"not\" is being used as an indicator of \n",
        "# dissatisfaction in negative reviews\n",
        "N = 4\n",
        "print_out_N_reviews(N, df_neg)"
      ],
      "metadata": {
        "colab": {
          "base_uri": "https://localhost:8080/"
        },
        "id": "jy_EB6qeQHAm",
        "outputId": "04c8bf1a-55dd-4418-f60c-6347fdd614d8"
      },
      "execution_count": 51,
      "outputs": [
        {
          "output_type": "stream",
          "name": "stdout",
          "text": [
            "  very cool decor good drinks nice seating  however  just about everything is overpriced  extra for  ounces of almond milk in a cortado no wifi music is a bit loud and the mix is odd  pleasant french oldies followed by loud techno several tables were dirty when we got there service is average  it feels like a los angeles coffee shot that is out of place \n",
            " \n",
            "   checkin ok lets try this approach  pros music seating decor general ambiance service  cons ipad ordering im a crotchety old man kids limited coffee menu or menu in general relatively expensive food is pretty but lackluster  im still sitting here as i type this and im less than overjoyed with the experience sadly the space and vibe are great but not quite familiar or intimate enough to beat out a place like genuine joe down the street it seems like they bank on the vibe and fall short the rest of the way this would be a great hangout for the artsydesign crowd having a collaborative meeting  the staff is great but the ipad ordering system limits your required interaction with them they take pride in no wifi to increase interaction but then use ipads instead of people  seating is ample if cramped in a surprisingly large space  but the food kids so pretty but again lackluster i tried the popart  and the nutella waffle  and they both sit on their respective tiny awkward plates half eaten yes the plate liners are cute the waffle is a great idea but the waffle itself  has no flavor and theres no delight the tart is similar  the pastry crust is much too thick compared to the smuckers jam tasting filling and it is essentially just pure sugar the pastry itself doesnt even taste buttery or crisp meh there appears to be no soul in this confectionary  coffee passable but at  for a cortado and a  upcharge for almond milk ill pick another place  i get why the reviews are so good here but there are much better places nearby for that cafe with a soul feel this feels like an acl popup going for that  great come here popart and cortado emailed receipt and satisfaction survey see all photos from kimberlee a for the factory  cafe with a soul \n",
            " \n",
            "  the store has a decoration but honestly the coffee it made is not as good as other coffee shop in the surrounding area it has no wifi so good for hang out with friend or read a book not sure why there is no restroom here ordering app is well made but probably wont be my coffee stop because of the quality of foodcoffee its selling you the atmosphere they created so dont expected the foodcoffee probably would be a good date spot  dollar tiny chicken and waffle one of the most expensive chicken and waffle \n",
            " \n",
            "   checkin listed in   the third time is a charm the factory has a decor and a very innovative interactionless tablet ordering system this allows you to look up what to get without feeling pressured by a barista staring at you waiting for you to order the eclectic selection of tables couches and swings  inside with a small kiddy corner appeal to many different types of tastes this is seriously a cool place to hang out  however when it comes to the coffee and food its rather not cheap the waffles range from  and coffee is between  and  the quality of the coffee is not yet up to par with other coffee mainstays in austin so i would probably not choose to come here just for coffee however it is a cute date place and i know that m and i will probably come back to chat peoplewatch or read books \n",
            " \n",
            "  okay so after visiting my friends in la and trying a mint mojito iced coffee i had to find one in austin thats comparable it was getting very difficult to find one to begin with let alone a good one i saw the mint coffee on the factorys website and had to try it unfortunately i was shellshocked at the price tag  if i remember correctly  i figured it would be a large drink and particularly fabulous and hopefully large to make up for the over the top price this is  more than philz   was it particularly fabulous no it was good it wasnt as good as philz was it bigger no it was about  ounces of  coffee tops will i be back absolutely not especially considering i can get a  oz mint mojito coffee from tea haus for  less that tastes just as good  this place is also self service for ordering and pick up why that would lead to inflated prices and not a price decrease is far beyond my understanding i dont recommend it \n",
            " \n"
          ]
        }
      ]
    },
    {
      "cell_type": "code",
      "source": [
        "# \"not\" appears twice in one review but the tone doesn't sound nearly as\n",
        "# negative as the reviews from df_neg\n",
        "N = 4\n",
        "print_out_N_reviews(N, df_pos)"
      ],
      "metadata": {
        "colab": {
          "base_uri": "https://localhost:8080/"
        },
        "id": "BdEibblJQ2sR",
        "outputId": "d410d939-da3a-46ba-a85f-2c573a849b97"
      },
      "execution_count": 53,
      "outputs": [
        {
          "output_type": "stream",
          "name": "stdout",
          "text": [
            "   checkin love love loved the atmosphere every corner of the coffee shop had its own style and there were swings i ordered the matcha latte and it was muy fantastico ordering and getting my drink were pretty streamlined i ordered on an ipad which included all beverage selections that ranged from coffee to wine desired level of sweetness and a checkout system i got my latte within minutes  i was hoping for a typical heart or feather on my latte but found myself listing out all the possibilities of what the art may be any ideas \n",
            " \n",
            "  listed in date night austin ambiance in austin beautiful love the ambiance instagramworthy  definitely  so be prepared this is gonna cost you a pretty penny  waffle dessert was just decentnothing to rave about  but will probably be back just to be somewhere unique and nice \n",
            " \n",
            "   checkin listed in brunch spots i loved the eclectic and homey plush decor and who doesnt want to swing and drink their coffee  i would categorize this as a pricier coffee place but to me it was worth it  after thanksgiving nobody wants to make brunch so we headed out in search of chicken and waffles  there is ample parking in the private lot and  ordering is done through ipads  pick a seat and they will call your name when your items are ready  be patient because some of the coffee drinks take longer than others  i had the cold brew coffee chicken and waffles and we shared a popart  the poart was strawberry light and fluffy on the outside and gooey sweet filling on the inside  the chicken and waffles wasnt the standard so expect different complex and interesting flavors from the accompanying slaw and sauce  i thoroughly enjoyed it but the waffle was a bit bland and maybe could have used a bit of honey to spruce it up  the coffee here is spot on and i hear that their hot chocolate is the bomb but i will have to wait for the weather to cool off to try that  a great place to be cozy and chat with your friends a date or read a book chicken and waffles pop tart coffee see all photos from carmela s for the factory  cafe with a soul \n",
            " \n",
            "   checkin they are located within the northcross mall shopping center facing east toward burnet rd with plenty of parking i loved their computerized user friendly ordering system it made it easy me to pick  choose all the items i wanted to try i ordered pop tart chicken  waffles strawberry waffles photos uploaded this place is ideal for ordering a few dishes to share with your group seating is limited since this place is fairly new with lots of visitors arrive early and be prepared to wait a bit if you with a large grop store front facing burnet rd see all photos from michelle a for the factory  cafe with a soul \n",
            " \n",
            "   checkin very cute cafe i think from the moment i stepped in there really wasnt anything i didnt find cute at the factory from their decor to their cups everything was really cute its really the perfect place for a catching up with friends or a coffee date  when you go order theres really the least amount of interaction ever with the workers you just pick your order on an ipad and theyll call your order out after for you to pick up at the counter the whole things pretty novel honestly i got the viva matcha latte and it was so good perfect amount of sweetness and perfect temperature i went on a cold night and this cafe is just so cozy it was such a great combination they have these swings as well which were pretty fun to sit on honestly  prices are what i would expect for a cafe like this not super cheap but not too pricey theres no wifi here so if you want to study maybe this isnt the right place but overall very nice atmosphere viva matcha latte and cortado \n",
            " \n"
          ]
        }
      ]
    },
    {
      "cell_type": "markdown",
      "source": [
        "## **More Thorough Analysis**\n",
        "\n",
        "Let's take a look at the `df_pos_wc` and `df_neg_wc`. Notice certain words are ranked higher in one data set and not the other."
      ],
      "metadata": {
        "id": "T5JwHpsHRpqV"
      }
    },
    {
      "cell_type": "code",
      "source": [
        "# these are words that are ranked higher in one data set but not the other\n",
        "key_words = ['love', 'not', 'delicious', 'friendly', 'great']"
      ],
      "metadata": {
        "id": "qBREoEt5SCC8"
      },
      "execution_count": 54,
      "outputs": []
    },
    {
      "cell_type": "code",
      "source": [
        "df_pos_keywords_mask = df_pos_wc.word.isin(key_words)\n",
        "df_pos_keywords = df_pos_wc[df_pos_keywords_mask]\n",
        "df_pos_keywords.head()"
      ],
      "metadata": {
        "colab": {
          "base_uri": "https://localhost:8080/",
          "height": 206
        },
        "id": "Xtit2LNUSPDF",
        "outputId": "e4142812-5459-4e91-ed6f-5eda83c4fe9c"
      },
      "execution_count": 56,
      "outputs": [
        {
          "output_type": "execute_result",
          "data": {
            "text/plain": [
              "          word  appears_in  count  rank  pct_total  cul_pct_total  \\\n",
              "98       great        2505   3474   4.0   1.236748       7.511267   \n",
              "116        not        2187   3469   5.0   1.234968       8.746235   \n",
              "38        love        1608   2120   8.0   0.754722      11.259603   \n",
              "161   friendly        1420   1487  16.0   0.529374      16.230803   \n",
              "582  delicious        1178   1314  24.0   0.467785      20.242223   \n",
              "\n",
              "     appears_in_pct  \n",
              "98        40.798046  \n",
              "116       35.618893  \n",
              "38        26.188925  \n",
              "161       23.127036  \n",
              "582       19.185668  "
            ],
            "text/html": [
              "\n",
              "  <div id=\"df-6a081757-2c4d-4c58-a554-3190383989f0\">\n",
              "    <div class=\"colab-df-container\">\n",
              "      <div>\n",
              "<style scoped>\n",
              "    .dataframe tbody tr th:only-of-type {\n",
              "        vertical-align: middle;\n",
              "    }\n",
              "\n",
              "    .dataframe tbody tr th {\n",
              "        vertical-align: top;\n",
              "    }\n",
              "\n",
              "    .dataframe thead th {\n",
              "        text-align: right;\n",
              "    }\n",
              "</style>\n",
              "<table border=\"1\" class=\"dataframe\">\n",
              "  <thead>\n",
              "    <tr style=\"text-align: right;\">\n",
              "      <th></th>\n",
              "      <th>word</th>\n",
              "      <th>appears_in</th>\n",
              "      <th>count</th>\n",
              "      <th>rank</th>\n",
              "      <th>pct_total</th>\n",
              "      <th>cul_pct_total</th>\n",
              "      <th>appears_in_pct</th>\n",
              "    </tr>\n",
              "  </thead>\n",
              "  <tbody>\n",
              "    <tr>\n",
              "      <th>98</th>\n",
              "      <td>great</td>\n",
              "      <td>2505</td>\n",
              "      <td>3474</td>\n",
              "      <td>4.0</td>\n",
              "      <td>1.236748</td>\n",
              "      <td>7.511267</td>\n",
              "      <td>40.798046</td>\n",
              "    </tr>\n",
              "    <tr>\n",
              "      <th>116</th>\n",
              "      <td>not</td>\n",
              "      <td>2187</td>\n",
              "      <td>3469</td>\n",
              "      <td>5.0</td>\n",
              "      <td>1.234968</td>\n",
              "      <td>8.746235</td>\n",
              "      <td>35.618893</td>\n",
              "    </tr>\n",
              "    <tr>\n",
              "      <th>38</th>\n",
              "      <td>love</td>\n",
              "      <td>1608</td>\n",
              "      <td>2120</td>\n",
              "      <td>8.0</td>\n",
              "      <td>0.754722</td>\n",
              "      <td>11.259603</td>\n",
              "      <td>26.188925</td>\n",
              "    </tr>\n",
              "    <tr>\n",
              "      <th>161</th>\n",
              "      <td>friendly</td>\n",
              "      <td>1420</td>\n",
              "      <td>1487</td>\n",
              "      <td>16.0</td>\n",
              "      <td>0.529374</td>\n",
              "      <td>16.230803</td>\n",
              "      <td>23.127036</td>\n",
              "    </tr>\n",
              "    <tr>\n",
              "      <th>582</th>\n",
              "      <td>delicious</td>\n",
              "      <td>1178</td>\n",
              "      <td>1314</td>\n",
              "      <td>24.0</td>\n",
              "      <td>0.467785</td>\n",
              "      <td>20.242223</td>\n",
              "      <td>19.185668</td>\n",
              "    </tr>\n",
              "  </tbody>\n",
              "</table>\n",
              "</div>\n",
              "      <button class=\"colab-df-convert\" onclick=\"convertToInteractive('df-6a081757-2c4d-4c58-a554-3190383989f0')\"\n",
              "              title=\"Convert this dataframe to an interactive table.\"\n",
              "              style=\"display:none;\">\n",
              "        \n",
              "  <svg xmlns=\"http://www.w3.org/2000/svg\" height=\"24px\"viewBox=\"0 0 24 24\"\n",
              "       width=\"24px\">\n",
              "    <path d=\"M0 0h24v24H0V0z\" fill=\"none\"/>\n",
              "    <path d=\"M18.56 5.44l.94 2.06.94-2.06 2.06-.94-2.06-.94-.94-2.06-.94 2.06-2.06.94zm-11 1L8.5 8.5l.94-2.06 2.06-.94-2.06-.94L8.5 2.5l-.94 2.06-2.06.94zm10 10l.94 2.06.94-2.06 2.06-.94-2.06-.94-.94-2.06-.94 2.06-2.06.94z\"/><path d=\"M17.41 7.96l-1.37-1.37c-.4-.4-.92-.59-1.43-.59-.52 0-1.04.2-1.43.59L10.3 9.45l-7.72 7.72c-.78.78-.78 2.05 0 2.83L4 21.41c.39.39.9.59 1.41.59.51 0 1.02-.2 1.41-.59l7.78-7.78 2.81-2.81c.8-.78.8-2.07 0-2.86zM5.41 20L4 18.59l7.72-7.72 1.47 1.35L5.41 20z\"/>\n",
              "  </svg>\n",
              "      </button>\n",
              "      \n",
              "  <style>\n",
              "    .colab-df-container {\n",
              "      display:flex;\n",
              "      flex-wrap:wrap;\n",
              "      gap: 12px;\n",
              "    }\n",
              "\n",
              "    .colab-df-convert {\n",
              "      background-color: #E8F0FE;\n",
              "      border: none;\n",
              "      border-radius: 50%;\n",
              "      cursor: pointer;\n",
              "      display: none;\n",
              "      fill: #1967D2;\n",
              "      height: 32px;\n",
              "      padding: 0 0 0 0;\n",
              "      width: 32px;\n",
              "    }\n",
              "\n",
              "    .colab-df-convert:hover {\n",
              "      background-color: #E2EBFA;\n",
              "      box-shadow: 0px 1px 2px rgba(60, 64, 67, 0.3), 0px 1px 3px 1px rgba(60, 64, 67, 0.15);\n",
              "      fill: #174EA6;\n",
              "    }\n",
              "\n",
              "    [theme=dark] .colab-df-convert {\n",
              "      background-color: #3B4455;\n",
              "      fill: #D2E3FC;\n",
              "    }\n",
              "\n",
              "    [theme=dark] .colab-df-convert:hover {\n",
              "      background-color: #434B5C;\n",
              "      box-shadow: 0px 1px 3px 1px rgba(0, 0, 0, 0.15);\n",
              "      filter: drop-shadow(0px 1px 2px rgba(0, 0, 0, 0.3));\n",
              "      fill: #FFFFFF;\n",
              "    }\n",
              "  </style>\n",
              "\n",
              "      <script>\n",
              "        const buttonEl =\n",
              "          document.querySelector('#df-6a081757-2c4d-4c58-a554-3190383989f0 button.colab-df-convert');\n",
              "        buttonEl.style.display =\n",
              "          google.colab.kernel.accessAllowed ? 'block' : 'none';\n",
              "\n",
              "        async function convertToInteractive(key) {\n",
              "          const element = document.querySelector('#df-6a081757-2c4d-4c58-a554-3190383989f0');\n",
              "          const dataTable =\n",
              "            await google.colab.kernel.invokeFunction('convertToInteractive',\n",
              "                                                     [key], {});\n",
              "          if (!dataTable) return;\n",
              "\n",
              "          const docLinkHtml = 'Like what you see? Visit the ' +\n",
              "            '<a target=\"_blank\" href=https://colab.research.google.com/notebooks/data_table.ipynb>data table notebook</a>'\n",
              "            + ' to learn more about interactive tables.';\n",
              "          element.innerHTML = '';\n",
              "          dataTable['output_type'] = 'display_data';\n",
              "          await google.colab.output.renderOutput(dataTable, element);\n",
              "          const docLink = document.createElement('div');\n",
              "          docLink.innerHTML = docLinkHtml;\n",
              "          element.appendChild(docLink);\n",
              "        }\n",
              "      </script>\n",
              "    </div>\n",
              "  </div>\n",
              "  "
            ]
          },
          "metadata": {},
          "execution_count": 56
        }
      ]
    },
    {
      "cell_type": "code",
      "source": [
        "df_neg_keywords_mask = df_neg_wc.word.isin(key_words)\n",
        "df_neg_keywords = df_neg_wc[df_neg_keywords_mask]\n",
        "df_neg_keywords.head()"
      ],
      "metadata": {
        "colab": {
          "base_uri": "https://localhost:8080/",
          "height": 206
        },
        "id": "R-Z4NFsiSq8Z",
        "outputId": "cd7b7969-d311-442d-b287-8c66da60d601"
      },
      "execution_count": 57,
      "outputs": [
        {
          "output_type": "execute_result",
          "data": {
            "text/plain": [
              "          word  appears_in  count   rank  pct_total  cul_pct_total  \\\n",
              "108        not         868   1706    2.0   2.156000       4.900920   \n",
              "80       great         348    472   11.0   0.596502      13.452886   \n",
              "280       love         208    252   40.0   0.318471      26.176575   \n",
              "518   friendly         181    201   59.0   0.254019      31.648721   \n",
              "378  delicious          83     88  157.0   0.111212      48.234506   \n",
              "\n",
              "     appears_in_pct  \n",
              "108       58.807588  \n",
              "80        23.577236  \n",
              "280       14.092141  \n",
              "518       12.262873  \n",
              "378        5.623306  "
            ],
            "text/html": [
              "\n",
              "  <div id=\"df-28cc6e61-7c94-4579-bb08-9e65b3a8e419\">\n",
              "    <div class=\"colab-df-container\">\n",
              "      <div>\n",
              "<style scoped>\n",
              "    .dataframe tbody tr th:only-of-type {\n",
              "        vertical-align: middle;\n",
              "    }\n",
              "\n",
              "    .dataframe tbody tr th {\n",
              "        vertical-align: top;\n",
              "    }\n",
              "\n",
              "    .dataframe thead th {\n",
              "        text-align: right;\n",
              "    }\n",
              "</style>\n",
              "<table border=\"1\" class=\"dataframe\">\n",
              "  <thead>\n",
              "    <tr style=\"text-align: right;\">\n",
              "      <th></th>\n",
              "      <th>word</th>\n",
              "      <th>appears_in</th>\n",
              "      <th>count</th>\n",
              "      <th>rank</th>\n",
              "      <th>pct_total</th>\n",
              "      <th>cul_pct_total</th>\n",
              "      <th>appears_in_pct</th>\n",
              "    </tr>\n",
              "  </thead>\n",
              "  <tbody>\n",
              "    <tr>\n",
              "      <th>108</th>\n",
              "      <td>not</td>\n",
              "      <td>868</td>\n",
              "      <td>1706</td>\n",
              "      <td>2.0</td>\n",
              "      <td>2.156000</td>\n",
              "      <td>4.900920</td>\n",
              "      <td>58.807588</td>\n",
              "    </tr>\n",
              "    <tr>\n",
              "      <th>80</th>\n",
              "      <td>great</td>\n",
              "      <td>348</td>\n",
              "      <td>472</td>\n",
              "      <td>11.0</td>\n",
              "      <td>0.596502</td>\n",
              "      <td>13.452886</td>\n",
              "      <td>23.577236</td>\n",
              "    </tr>\n",
              "    <tr>\n",
              "      <th>280</th>\n",
              "      <td>love</td>\n",
              "      <td>208</td>\n",
              "      <td>252</td>\n",
              "      <td>40.0</td>\n",
              "      <td>0.318471</td>\n",
              "      <td>26.176575</td>\n",
              "      <td>14.092141</td>\n",
              "    </tr>\n",
              "    <tr>\n",
              "      <th>518</th>\n",
              "      <td>friendly</td>\n",
              "      <td>181</td>\n",
              "      <td>201</td>\n",
              "      <td>59.0</td>\n",
              "      <td>0.254019</td>\n",
              "      <td>31.648721</td>\n",
              "      <td>12.262873</td>\n",
              "    </tr>\n",
              "    <tr>\n",
              "      <th>378</th>\n",
              "      <td>delicious</td>\n",
              "      <td>83</td>\n",
              "      <td>88</td>\n",
              "      <td>157.0</td>\n",
              "      <td>0.111212</td>\n",
              "      <td>48.234506</td>\n",
              "      <td>5.623306</td>\n",
              "    </tr>\n",
              "  </tbody>\n",
              "</table>\n",
              "</div>\n",
              "      <button class=\"colab-df-convert\" onclick=\"convertToInteractive('df-28cc6e61-7c94-4579-bb08-9e65b3a8e419')\"\n",
              "              title=\"Convert this dataframe to an interactive table.\"\n",
              "              style=\"display:none;\">\n",
              "        \n",
              "  <svg xmlns=\"http://www.w3.org/2000/svg\" height=\"24px\"viewBox=\"0 0 24 24\"\n",
              "       width=\"24px\">\n",
              "    <path d=\"M0 0h24v24H0V0z\" fill=\"none\"/>\n",
              "    <path d=\"M18.56 5.44l.94 2.06.94-2.06 2.06-.94-2.06-.94-.94-2.06-.94 2.06-2.06.94zm-11 1L8.5 8.5l.94-2.06 2.06-.94-2.06-.94L8.5 2.5l-.94 2.06-2.06.94zm10 10l.94 2.06.94-2.06 2.06-.94-2.06-.94-.94-2.06-.94 2.06-2.06.94z\"/><path d=\"M17.41 7.96l-1.37-1.37c-.4-.4-.92-.59-1.43-.59-.52 0-1.04.2-1.43.59L10.3 9.45l-7.72 7.72c-.78.78-.78 2.05 0 2.83L4 21.41c.39.39.9.59 1.41.59.51 0 1.02-.2 1.41-.59l7.78-7.78 2.81-2.81c.8-.78.8-2.07 0-2.86zM5.41 20L4 18.59l7.72-7.72 1.47 1.35L5.41 20z\"/>\n",
              "  </svg>\n",
              "      </button>\n",
              "      \n",
              "  <style>\n",
              "    .colab-df-container {\n",
              "      display:flex;\n",
              "      flex-wrap:wrap;\n",
              "      gap: 12px;\n",
              "    }\n",
              "\n",
              "    .colab-df-convert {\n",
              "      background-color: #E8F0FE;\n",
              "      border: none;\n",
              "      border-radius: 50%;\n",
              "      cursor: pointer;\n",
              "      display: none;\n",
              "      fill: #1967D2;\n",
              "      height: 32px;\n",
              "      padding: 0 0 0 0;\n",
              "      width: 32px;\n",
              "    }\n",
              "\n",
              "    .colab-df-convert:hover {\n",
              "      background-color: #E2EBFA;\n",
              "      box-shadow: 0px 1px 2px rgba(60, 64, 67, 0.3), 0px 1px 3px 1px rgba(60, 64, 67, 0.15);\n",
              "      fill: #174EA6;\n",
              "    }\n",
              "\n",
              "    [theme=dark] .colab-df-convert {\n",
              "      background-color: #3B4455;\n",
              "      fill: #D2E3FC;\n",
              "    }\n",
              "\n",
              "    [theme=dark] .colab-df-convert:hover {\n",
              "      background-color: #434B5C;\n",
              "      box-shadow: 0px 1px 3px 1px rgba(0, 0, 0, 0.15);\n",
              "      filter: drop-shadow(0px 1px 2px rgba(0, 0, 0, 0.3));\n",
              "      fill: #FFFFFF;\n",
              "    }\n",
              "  </style>\n",
              "\n",
              "      <script>\n",
              "        const buttonEl =\n",
              "          document.querySelector('#df-28cc6e61-7c94-4579-bb08-9e65b3a8e419 button.colab-df-convert');\n",
              "        buttonEl.style.display =\n",
              "          google.colab.kernel.accessAllowed ? 'block' : 'none';\n",
              "\n",
              "        async function convertToInteractive(key) {\n",
              "          const element = document.querySelector('#df-28cc6e61-7c94-4579-bb08-9e65b3a8e419');\n",
              "          const dataTable =\n",
              "            await google.colab.kernel.invokeFunction('convertToInteractive',\n",
              "                                                     [key], {});\n",
              "          if (!dataTable) return;\n",
              "\n",
              "          const docLinkHtml = 'Like what you see? Visit the ' +\n",
              "            '<a target=\"_blank\" href=https://colab.research.google.com/notebooks/data_table.ipynb>data table notebook</a>'\n",
              "            + ' to learn more about interactive tables.';\n",
              "          element.innerHTML = '';\n",
              "          dataTable['output_type'] = 'display_data';\n",
              "          await google.colab.output.renderOutput(dataTable, element);\n",
              "          const docLink = document.createElement('div');\n",
              "          docLink.innerHTML = docLinkHtml;\n",
              "          element.appendChild(docLink);\n",
              "        }\n",
              "      </script>\n",
              "    </div>\n",
              "  </div>\n",
              "  "
            ]
          },
          "metadata": {},
          "execution_count": 57
        }
      ]
    },
    {
      "cell_type": "code",
      "metadata": {
        "id": "4m0c-J5p3O7_",
        "colab": {
          "base_uri": "https://localhost:8080/",
          "height": 791
        },
        "outputId": "89ad595b-0ff1-4a3d-a820-c0fd9a741cfa"
      },
      "source": [
        "plt.figure(figsize=(15,6))\n",
        "plt.title(\"Positive Reviews: Percent of Documents that Keywords appear in\")\n",
        "sns.barplot(x=df_pos_keywords.word, y=df_pos_keywords.appears_in_pct, palette=\"rocket\", order=key_words);\n",
        "plt.show();\n",
        "\n",
        "plt.figure(figsize=(15,6))\n",
        "plt.title(\"Negative Reviews: Percent of Documents that Keywords appear in\")\n",
        "sns.barplot(x=df_neg_keywords.word, y=df_neg_keywords.appears_in_pct, palette=\"rocket\", order=key_words);\n",
        "plt.show();"
      ],
      "execution_count": 59,
      "outputs": [
        {
          "output_type": "display_data",
          "data": {
            "text/plain": [
              "<Figure size 1080x432 with 1 Axes>"
            ],
            "image/png": "[encoded data removed]"
          },
          "metadata": {
            "needs_background": "light"
          }
        },
        {
          "output_type": "display_data",
          "data": {
            "text/plain": [
              "<Figure size 1080x432 with 1 Axes>"
            ],
            "image/png": "[encoded data removed]"
          },
          "metadata": {
            "needs_background": "light"
          }
        }
      ]
    },
    {
      "cell_type": "markdown",
      "source": [
        "**Observations**\n",
        "\n",
        "We can notice that the word **not** appears in higher percentage in negative reviews, and we can also see that certain highly positive sentiment words appear in far higher percentages in positive reviews than they do in negative reviews. These results line up with our intuitions on what to expect.\n",
        "\n",
        "Notice how certain words are correlated with certain sentiment? This is the kind of thing we want to capture in our data before we pass it into Machine Learning models."
      ],
      "metadata": {
        "id": "0mAlKVHwTnE2"
      }
    }
  ]
}